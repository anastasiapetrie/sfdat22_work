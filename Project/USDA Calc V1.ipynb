{
 "cells": [
  {
   "cell_type": "code",
   "execution_count": 35,
   "metadata": {
    "collapsed": true
   },
   "outputs": [],
   "source": [
    "import pandas as pd"
   ]
  },
  {
   "cell_type": "code",
   "execution_count": 36,
   "metadata": {
    "collapsed": false
   },
   "outputs": [],
   "source": [
    "import sys\n",
    "import requests \n",
    "import re \n",
    "from bs4 import BeautifulSoup"
   ]
  },
  {
   "cell_type": "code",
   "execution_count": 37,
   "metadata": {
    "collapsed": true
   },
   "outputs": [],
   "source": [
    "r = requests.get('https://marketnews.usda.gov/mnp/fv-report-config-step3?commodityClass=allcommodity&locChoose=location&startIndex=1&rowDisplayMax=25&type=termPrice&locName=SAN+FRANCISCO&locAbr=SX&repTypeChanger=termPriceDaily&repType=termPriceDaily&_commAbrfrom=1&commAbr=ALCH&_commAbr=1&locAbrPass=ALCHEMILLA%7C%7CALCH&locAbrlength=1&step3date=true&step3=Go')"
   ]
  },
  {
   "cell_type": "code",
   "execution_count": 38,
   "metadata": {
    "collapsed": false
   },
   "outputs": [],
   "source": [
    "soup = BeautifulSoup(r.text)\n",
    "options = soup.findAll(\"table\")[6].findAll(\"option\")"
   ]
  },
  {
   "cell_type": "code",
   "execution_count": 39,
   "metadata": {
    "collapsed": false
   },
   "outputs": [
    {
     "name": "stdout",
     "output_type": "stream",
     "text": [
      "{'': u'ALL', 'HYDR': u'HYDRANGEA', 'OLALLIEB-V': u'OLALLIE BERRIES', 'PERSIANM-V': u'PERSIAN MELON', 'LOFV': u'LILY-OF-THE-VALLEY', 'SAGE': u'SAGE', 'ERIO': u'ERIOSTEMON', 'POPP': u'POPPY', 'FALM': u'ALMOND (FLOWERING)', 'CLEM': u'CLEMENTINES', 'IXIA': u'IXIA', 'CRBY': u'CRANBERRIES', 'OCORN': u'ORNAMENTAL CORN', 'FCHE': u'CHERRY (FLOWERING)', 'TIND': u'TINDORA', 'RDCURRAN-V': u'RED CURRANTS', 'TOM, CHER': u'TOMATOES, CHERRY', 'RAMB': u'RAMBUTAN', 'GYPY': u'GYPSY (DIANTHUS HYBRID)', 'GU': u'GUADALAJARA', 'GYPS': u'GYPSOPHILA', 'SWETLIM-V': u'SWEET LIME', 'SX': u'SAN FRANCISCO', 'SPIN': u'SPINACH', 'LMNGRS': u'LEMON GRASS', 'DURIAN': u'DURIAN', 'TAYBERI-V': u'TAYBERRIES', 'QUEE': u\"QUEEN ANNE'S LACE\", 'STRBY': u'STRAWBERRIES', 'FOXG': u'FOXGLOVE', 'QUEN': u'QUENAPAS', 'YUCA': u'YUCA (CASSAVA)', 'RASP': u'RASPBERRIES', 'RICE': u'RICE FLOWER (OZOTHAMNUS)', 'MAL': u'MALANGA', 'TEMPTATI-V': u'TEMPTATION MELON', 'JUANCANA-V': u'JUAN CANARY MELON', 'GAIL': u'GAILLARDIA', 'TRAH': u'TRACHYMENE (BLUE LACE)', 'PCH': u'PEACHES', 'AVOC': u'AVOCADOS', 'PISTAC': u'PISTACHIOS', 'PEPI': u'PEPICHA', 'CILAN': u'CILANTRO', 'PEPO': u'PEPPERS, OTHER', 'TANG': u'TANGERINES', 'WHTCURRA-V': u'WHITE CURRANTS', 'BLUBY': u'BLUEBERRIES', 'PEPP': u'PEPPERBERRY', 'BIRD': u'BIRD OF PARADISE (STRELITZIA)', 'GARD': u'GARDENIA', 'MAGU': u'MAGUEY (AGAVE) LEAVES', 'MAGN': u'MAGNOLIA', 'DIOS': u'DIOSMA', 'KIWANO-V': u'KIWANO', 'HAMI-V': u'HAMI MELON', 'ALOE': u'ALOE LEAVES', 'MO': u'MONTREAL, QUE', 'MH': u'MIAMI', 'FEVR': u'FEVERFEW', 'MT': u'MONTERREY', 'PUMP': u'PUMPKINS', 'MX': u'MEXICO CITY', 'SWIL': u'SWEET WILLIAM', 'EPAS': u'EPASOTE', 'COSM': u'COSMOS', 'BANFL': u'BANANA FLOWERS', 'SWPOT': u'SWEET POTATOES', 'MGRN': u'MISC. GREENS', 'CROC': u'CROCOSMIA', 'MACHE-V': u'MACHE', 'AMLS': u'AMARYLLIS', 'DAIS': u'DAISIES', 'BTRORG': u'BITTER ORANGE', 'ARTE': u'ARTEMISIA', 'BLKBERI-V': u'BLACKBERRIES', 'SAST': u'SOLIDASTER', 'LEPT': u'LEPTOSPERMUM', 'RHUB': u'RHUBARB', 'YUCHY': u'YU CHOY', 'LEECITRU-V': u'LEE CITRUS', 'CHIVE': u'CHIVES', 'BROD': u'BRODIAEA', 'CURRY': u'CURRY LEAVES', 'BROC': u'BROCCOLI', 'DAFF': u'DAFFODIL', 'ALM': u'ALMONDS', 'MARI': u'MARIGOLD', 'MARJ': u'MARJORAM', 'SARR': u'SARRACENIA (COBRA LILY)', 'ORG': u'ORANGES', 'UPCRS': u'UPLAND/WINTER CRESS', 'ALFALFAS-V': u'ALFALFA SPROUTS', 'BAT': u'BATATAS', 'STEP': u'STEPHANOTIS', 'TOM': u'TOMATOES', 'BAN': u'BANANAS', 'CAB': u'CABBAGE', 'RMNLETRU-V': u'LETTUCE, RUBY ROMAINE', 'SPIREA': u'SPIRAEA', 'OLETGRN-V': u'LETTUCE, OAK LEAF - GREEN', 'GODE': u'GODETIA', 'CHOYSUM': u'CHOY SUM', 'MISC BER': u'MISC BERRIES', 'CAUL': u'CAULIFLOWER', 'SWISSCHA-V': u'SWISS CHARD', 'CELO': u'CELOSIA', 'IRID': u'IRIS, DUTCH TYPE', 'MAYANMEL-V': u'MAYAN MELON', 'ONS': u'ONIONS DRY', 'IRIO': u'IRIS, OTHER TYPES', 'NECTARBE-V': u'NECTARBERRIES', 'GAILON': u'GAILON', 'HOMELYFR-V': u'HOMELYFRUIT', 'SGRCN': u'SUGARCANE', 'FORG': u'FORGET-ME-NOT', 'HEAT': u'HEATHER', 'COLLARDG-V': u'COLLARD GREENS', 'ANTH': u'ANTHURIUM', 'FORS': u'FORSYTHIA', 'RDSHSPRO-V': u'RADISH SPROUTS', 'GLAD': u'GLADIOLA', 'PIELDSAP-V': u'PIEL DE SAPO MELON', 'CRAS': u'CRASPEDIA (BILLY BALLS)', 'LIMEQUAT-V': u'LIMEQUAT', 'LAVE': u'LAVENDER', 'LAVA': u'LAVATERIA', 'RDLFLET-V': u'LETTUCE, RED LEAF', 'RUTA': u'RUTABAGAS', 'CALL': u'CALLA (ZANTEDESCHIA)', 'GENI': u'GENISTA', 'BOUV': u'BOUVARDIA', 'CALA': u'CALABAZA', 'CALE': u'CALENDULA', 'RSEMRY': u'ROSEMARY', 'BRSPT': u'BRUSSELS SPROUTS', 'LIM': u'LIMES', 'CBGSPROU-V': u'CABBAGE SPROUTS', 'BAMBSHTS': u'BAMBOO SHOOTS', 'FILB': u'FILBERTS', 'LINK': u'LINKOK', 'TLIP': u'TULIPS', 'GERB': u'GERBERA', 'ASTI': u'ASTILBE', 'RAD': u'RADISHES', 'RECAO': u'RECAO (CULANTRO)', 'STRAW': u'STRAW BALES', 'ASTA': u'ASTARTEA', 'PLUM': u'PLUMS', 'OREG': u'OREGANO', 'ASTE': u'ASTER', 'MFAL': u'MISC. FALL ITEMS', 'TEPE': u'TEPEGUAJE (GUAJE)', 'BEETTOPS-V': u'BEET TOPS', 'KUMQUATS-V': u'KUMQUATS', 'RO': u'ROTTERDAM', 'HRSRAD': u'HORSERADISH', 'PIER': u'PIERIS', 'GOMP': u'GOMPHRENA', 'MEYERLEM-V': u'MEYER LEMON', 'GNGRT': u'GINGER ROOT', 'ORTANIQ-V': u'ORTANIQUE', 'APR': u'APRICOTS', 'LOLLET-V': u'LETTUCE, LOLLA ROSSA', 'BUPL': u'BUPLEURUM', 'LETT': u'LETTUCE, ICEBERG', 'APL': u'APPLES', 'SNAP': u'SNAPDRAGON', 'MUSTARD-V': u'MUSTARD', 'DONQ': u'DONQUA (WINTER MELON)', 'STAT': u'STATICE (LIMONIUM)', 'STAR': u'STAR OF BETHLEHEM/ORNITHOGALUM', 'COLU': u'COLUMBINE', 'PAPA': u'PAPALO', 'PEAN': u'PEANUTS', 'CITRON-V': u'CITRON', 'POTSS': u'POTATOES-SEED', 'GALANGA': u'GALANGA (SIAM, THAI GINGER)', 'APPLEPEA-V': u'APPLE PEARS', 'CEL': u'CELERY', 'ROYALMAN-V': u'ROYAL MANDARIN', 'FPCH': u'PEACH (FLOWERING)', 'END': u'ENDIVE', 'SDAG': u'SOLIDAGO', 'ANISE': u'ANISE', 'JACK': u'JACKFRUIT', 'LOBOK': u'LO BOK', 'DRYESC': u'DRY ESCHALLOT', 'OKRA': u'OKRA', 'BTS': u'BEETS', 'TUBE': u'TUBEROSE', 'PROT': u'PROTEA', 'LARK': u'LARKSPUR (CONSOLIDA)', 'OROBLANC-V': u'ORO BLANCO', 'IXOD': u'IXODIA (AUSTRALIAN DAISY)', 'MANGO': u'MANGOES', 'ROSE,HYBRD': u'ROSE, HYBRID TEA', 'CURC': u'CURCUMA', 'SEDM': u'SEDUM', 'CHAY': u'CHAYOTE', 'PEPINO-V': u'PEPINO', 'BTRMLN': u'BITTERMELON', 'SALICOR-V': u'SALICORNIA (SEA BEAN)', 'LYSI': u'LYSIMACHIA', 'ASP': u'ASPARAGUS', 'M/MEL': u'MISC MELONS', 'LORT': u'LOTUS ROOT', 'BKCHY': u'BOK CHOY', 'BANK': u'BANKSIA', 'HYPE': u'HYPERICUM', 'BITT': u'BITTERSWEET (CELASTRUS)', 'MESCULIN-V': u'MESCULIN MIX', 'CARR': u'CARROTS', 'FIDDLEHE-V': u'FIDDLE HEAD FERNS', 'NERI': u'NERINE', 'BNSPRT': u'BEAN SPROUTS', 'XX': u'ST. LOUIS', 'CARN': u'CARNATIONS', 'CARO': u'CARNATIONS, MINIATURE', 'BRDFRT': u'BREADFRUIT', 'CARD': u'CARDOON (ARTICHOKE)', 'ONCHO': u'ONG CHOY', 'TAMA': u'TAMARINDO', 'ANEM': u'ANEMONE', 'LISI': u'LISIANTHUS (EUSTOMA)', 'TUM': u'TUMERIC', 'PEON': u'PEONY', 'KALEGRNS-V': u'KALE GREENS', 'GENT': u'GENTIANA', 'ALCH': u'ALCHEMILLA', 'DA': u'DALLAS', 'AGRO': u'AGROSTEMMA', 'CASABA-V': u'CASABA', 'BASIL': u'BASIL', 'PEASG': u'PEAS GREEN', 'DU': u'DETROIT', 'termPriceDaily': u'Daily', 'YELLOWFL-V': u'YELLOW FLESH MELON', 'BROCRBE-VR': u'BROCCOLI RABE (RAPPINI)', 'CAMP': u'CAMPANULA', 'ARRH': u'ARROWHEAD', 'SAND': u'SANDERSONIA', 'ARRT': u'ARROW ROOT', 'LONGAN': u'LONGAN', 'ROSE,SWEET': u'ROSE, SWEETHEART', 'RADICCHI-V': u'RADICCHIO', 'CAME': u'CAMELIA', 'LIAT': u'LIATRIS', 'PHYS': u'PHYSOSTEGIA', 'MELOGOLD-V': u'MELOGOLD', 'SNOW': u'SNOWBERRY', 'GING': u'GINGER (ALPINIA)', 'COPP': u'COPPERBEECH', 'GARLIC': u'GARLIC', 'VERD': u'VERDULAGA', 'PHYA': u'PHYSALIS', 'TOMA': u'TOMATILLOS', 'SUNF': u'SUNFLOWER', 'VERO': u'VERONICA', 'PUMMELO-V': u'PUMMELO', 'TARO': u'TARO', 'POME': u'POMEGRANATES', 'WTR CNUT': u'WATER CHESTNUTS', 'TARR': u'TARRAGON', 'SCIL': u'SCILLA', 'PAP': u'PAPAYA', 'MUSH': u'MUSHROOMS', 'CHER': u'CHERRIES', 'MUSC': u'MUSCARI', 'BOLETRD-V': u'LETTUCE, BOSTON, RED', 'GAICHY': u'GAI CHOY (CHINESE MUSTARD)', 'AGER': u'AGERATUM', 'ASCL': u'ASCLEPIAS', 'WR': u'WARSAW', 'COGRPU-VR': u'COCKTAIL GRAPEFRUIT/PUMMELO', 'CHEL': u'CHELONE', 'WMEL': u'WATERMELONS', 'MINT': u'MINT', 'SWEE': u'SWEET PEA', 'OLIVES-V': u'OLIVES', 'MAMEY': u'MAMEY SAPOTE', 'THRY': u'THRYPTOMENE', 'VEGO': u'VEGETABLES OTHER', 'BNS': u'BEANS', 'SPTE': u'SAPOTE', 'JCMA': u'JICAMA', 'DASH': u'DASHEEN', 'CHERV': u'CHERVIL', 'GLOR': u'GLORIOSA', 'ERYN': u'ERYNGIUM', 'CARDOON-V': u'CARDOON', 'CHEST': u'CHESTNUTS', 'WAXF': u'WAXFLOWER', 'ANAN': u'ANANAS (PINEAPPLE)', 'BELL': u'BELLS OF IRELAND (MOLUCELLA)', 'KOHLRABI-V': u'KOHLRABI', 'NIGE': u'NIGELLA (LOVE-IN-A-MIST)', 'CACLF(NO-V': u'CACTUS LEAF (NOPALES)', 'FPEAR': u'PEAR (FLOWERING)', 'HELE': u'HELENIUM', 'APLCID': u'APPLE CIDER', 'AMAR': u'AMARANTHUS', 'CHERIMOY-V': u'CHERIMOYA', 'HELO': u'HELIOPSIS', 'ORGFLESH-V': u'ORANGE FLESH MELON', 'HELI': u'HELICONIA', 'TMRLO': u'TAMARILLO', 'PZ': u'POZNAN', 'ROSE,SPRAY': u'ROSE, SPRAY TYPE', 'YARR': u'YARROW', 'PA': u'PARIS', 'NARC': u'NARCISSUS', 'ECHA': u'ECHINACEA (CONEFLOWER)', 'ECHI': u'ECHINOPS (GLOBE THISTLE)', 'ROSE,GARDN': u'ROSE, GARDEN HYBRIDS', 'TURTOPSG-V': u'TURNIP TOPS GREENS', 'BOYSENBE-V': u'BOYSENBERRIES', 'ECHU': u'ECHIUM (PRIDE OF MADEIRA)', 'KORMELON-V': u'KOREAN MELON', 'LOGANBER-V': u'LOGANBERRIES', 'ARRUG': u'ARRUGULA', 'YAMP': u'YAMPI', 'YAMS': u'YAMS (NAMES)', 'DRAGON': u'DRAGON FRUIT (RED PITAYA)', 'MOO': u'MOO', 'MCHR': u'MISC. CHRISTMAS ITEMS', 'OPO': u'OPO (LONG SQUASH)', 'SAPP': u'SAPONARIA', 'CHRYLV': u'CHRYSANTHEMUM LEAVES (TUNG HO)', 'PEP': u'PEPPERS, BELL TYPE', 'CENT': u'CENTAUREA (THISTLE)', 'CHARANTA-V': u'CHARANTAIS MELON', 'TRNP': u'TURNIPS', 'BAYLVS': u'BAY LEAVES', 'CELRIC': u'CELERIAC (CELERY ROOT)', 'TATSOI-V': u'TATSOI', 'CASH': u'CASHEWS', 'QUINCE-V': u'QUINCE', 'SPRITE-V': u'SPRITE MELON', 'AGAP': u'AGAPANTHUS', 'COCO': u'COCONUTS', 'DATES-V': u'DATES', 'HYAC': u'HYACINTH', 'WAL': u'WALNUTS', 'SORR': u'SORREL', 'ATRI': u'ATRIPLEX', 'CA': u'COLUMBIA', 'FEIJOA-V': u'FEIJOA', 'TANGL': u'TANGELOS', 'FREE': u'FREESIA', 'K-EARLYC-V': u'K-EARLY CITRUS', 'MSTGRNSR-V': u'LETTUCE, RUSSIAN RED MUSTARD', 'SINQ': u'SINQUA (ANGLED/RIDGED LUFFA)', 'LOQUAT-V': u'LOQUAT', 'BLOODORG-V': u'BLOOD ORANGE', 'TRAC': u'TRACHELIUM', 'PEASO': u'PEAS OTHER', 'FAPR': u'APRICOT (FLOWERING)', 'CHRY': u'CHRYSANTHEMUMS', 'FAPP': u'APPLE (FLOWERING)', 'TELO': u'TELOPIA (WARATAH)', 'EREM': u'EREMURUS', 'TMPL': u'TEMPLES', 'CHCAB': u'CHINESE CABBAGE', 'GRPMJ': u'GRAPES-MIXED JUICE', 'SCAB': u'SCABIOSA', 'KNIF': u'KNIPHOFIA (RED HOT POKER)', 'FPLU': u'PLUM (FLOWERING)', 'CAPEG': u'CAPE GOOSEBERRIES (PHYSALIS)', 'PRSM': u'PERSIMMONS', 'MANGSTN': u'MANGOSTEEN', 'HDEW': u'HONEYDEWS', 'ZINN': u'ZINNIA', 'JERUSAL-V': u'JERUSALEM ARTICHOKES', 'EGPLT': u'EGGPLANT', 'VIBU': u'VIBURNUM', 'SHARLYNM-V': u'SHARLYN MELON', 'MIZUNA-V': u'MIZUNA', 'RUDB': u'RUDBECKIA (BLACK-EYED-SUSAN)', 'LETTR': u'LETTUCE, ROMAINE', 'LETTP': u'LETTUCE, PROCESSED', 'GRPFT': u'GRAPEFRUIT', 'BOLET-V': u'LETTUCE, BOSTON', 'VR': u'VARNA', 'GUAVA-V': u'GUAVA', 'EUPH': u'EUPHORBIA', 'GRNLFLET-V': u'LETTUCE, GREEN LEAF', 'GRPS': u'GRAPES', 'LETTO': u'LETTUCE-OTHER', 'DNDGRNS-V': u'DANDELION GREENS', 'NECT': u'NECTARINES', 'EUPA': u'EUPATORIUM', 'ART': u'ARTICHOKES', 'PINE': u'PINEAPPLES', 'SPNMELON-V': u'SPANISH MELON', 'TOM, GRP': u'TOMATOES, GRAPE TYPE', 'CAND': u'CANDYTUFT', 'FIELDCRE-V': u'FIELD CRESS', 'BH': u'BOSTON', 'BI': u'BIRMINGHAM', 'BORO': u'BORONIA', 'PECA': u'PECANS', 'CANT': u'CANTALOUPS', 'WTRCRS': u'WATERCRESS', 'BP': u'BALTIMORE', 'TEMH-V': u'TEJOCOTE (MEXICAN HAWTHORN)', 'THYME': u'THYME', 'ORCO': u'ORCHID-OTHERS', 'ALLI': u'ALLIUM', 'GOBO': u'GOBO', 'STRA': u'STRAWFLOWERS', 'WATS': u'WATSONIA', 'OGOURD': u'ORNAMENTAL GOURDS', 'MISC CIT': u'MISC CITRUS', 'SOURORGC-V': u'SOUR ORANGE CITRUS', 'SAFF': u'SAFFLOWER', 'WATE': u'WATER LILLIES', 'FRIT': u'FRITALLARIA', 'EDIBLEFL-V': u'EDIBLE FLOWERS', 'MOMB': u'MOMBIN (JOCOTE)', 'GOOSEBER-V': u'GOOSEBERRIES', 'TULB': u'TULBAGHIA', 'PHLO': u'PHLOX', 'PASSIONF-V': u'PASSION FRUIT', 'SQU': u'SQUASH', 'PARSL': u'PARSLEY', 'PARSN': u'PARSNIPS', 'CHINCHI': u'CHINESE CHIVES', 'HX': u'CHICAGO', 'TAROLF': u'TARO LEAF', 'GALIA-V': u'GALIA MELON', 'KANG': u'KANGAROO PAW', 'VIOA': u'VIOLA', 'JUJU': u'JUJUBE', 'HC': u'LOS ANGELES', 'PAGECITR-V': u'PAGE CITRUS', 'LILA': u'LILAC', 'ACON': u'ACONITUM (MONKSHOOD)', 'FRTO': u'FRUITS OTHER', 'SLSFY': u'SALSIFY', 'LILY': u'LILIES', 'NAGAI': u'NAGAIMO', 'BIBBLET-V': u'LETTUCE, BIBB', 'SAVOR': u'SAVORY', 'SATSUMA-V': u'SATSUMA', 'TWEE': u'TWEEDIA', 'TAROSH': u'TARO SHOOTS', 'BLKCURRA-V': u'BLACK CURRANTS', 'RHOD': u'RHODODENDRON', 'DAHL': u'DAHLIA', 'GRPBJ': u'GRAPES-BLACK JUICE', 'FENU': u'FENUGREEK (METHI)', 'CIPOL': u'CIPOLINOS', 'SKIM': u'SKIMMIA', 'CLIV': u'CLIVIA', 'DILL': u'DILL', 'ACAC': u'ACACIA (MIMOSA)', 'GRNS': u'HUAUZONTLE', 'LOBE': u'LOBELIA', 'FIGS-V': u'FIGS', 'termPriceWeekly': u'Weekly', 'VIOL': u'VIOLETS', 'RANU': u'RANUNCULUS', 'KUN': u'KUNZEA', 'STOC': u'STOCK', 'FQUI': u'QUINCE (FLOWERING)', 'NA': u'PHILADELPHIA', 'NC': u'NEW COVENT GARDEN', 'DAIKON': u'DAIKON', 'NX': u'NEW YORK', 'NS': u'NEW SPITALFIELDS', 'SALV': u'SALVIA', 'BUDL': u'BUDDLEIA', 'KIWI': u'KIWIFRUIT', 'CORE': u'COREOPSIS', 'POMP': u'POMPONS', 'PRUNE': u'PRUNES', 'PEAR': u'PEARS', 'CORN': u'CORN-SWEET', 'CUX': u'CUCUMBERS', 'RMNBABYR-V': u'ROMAINE, BABY RED', 'LNBNS': u'LONG BEANS', 'CRENSHAW-V': u'CRENSHAW', 'ILEX': u'ILEX', 'OLETRD-V': u'LETTUCE, OAK LEAF - RED', 'CHINCEL': u'CHINESE CELERY', 'RAPEGRNS-V': u'RAPE GREENS', 'EUCH': u'EUCHARIS (AMAZON LILY)', 'POTS': u'POTATOES', 'LEM': u'LEMONS', 'POTP': u'POTTED PLANTS', 'CIRC': u'CIRSIUM', 'SANTACLA-V': u'SANTA CLAUS MELON', 'CARAMBOL-V': u'CARAMBOLA - STAR FRUIT', 'MOAP': u'MOAP (SMOOTH LUFFA)', 'LUPI': u'LUPINE', 'FRISEE-V': u'FRISEE', 'VISC': u'VISCARIA (LYCHNIS)', 'HANOVERS-V': u'HANOVER SALAD GREENS', 'LEUC': u'LEUCADENDRON', 'LEUO': u'LEUCOSPERMUM (PIN CUSHION)', 'ALST': u'ALSTROEMERIA', 'LOTU': u'LOTUS', 'CFLW': u'CORNFLOWER', 'TO': u'TORONTO, ONT', 'ORCH': u'ORCHID-CYMBIDIUM', 'TOM, PLUM': u'TOMATOES, PLUM TYPE', 'CORNST': u'CORN STALKS', 'GRPWJ': u'GRAPES-WHITE JUICE', 'AJ': u'ATLANTA', 'CACPEARS-V': u'CACTUS PEARS', 'MOQUA': u'MOQUA (FUZZY SQUASH)', 'LYCH': u'LYCHEE', 'DELP': u'DELPHINIUM', 'ESC': u'ESCAROLE', 'PLAN': u'PLANTAINS', 'MIXED': u'MIXED NUTS', 'DAUM': u'DAU MUE (PEA TIPS)', 'OSCEOLAC-V': u'OSCEOLA CITRUS', 'BRAZ': u'BRAZIL NUTS', 'ONSG': u'ONIONS GREEN', 'UGLIFRUI-V': u'UGLIFRUIT/UNIQFRUIT', 'CATT': u'CATTAILS'}\n"
     ]
    }
   ],
   "source": [
    "#create d that holds all of the commodity options available from the USDA and their abbreviations\n",
    "com_mapping = dict()\n",
    "for option in options:\n",
    "    com_mapping[option.get(\"value\")] = option.text\n",
    "print(com_mapping)"
   ]
  },
  {
   "cell_type": "code",
   "execution_count": 41,
   "metadata": {
    "collapsed": false
   },
   "outputs": [],
   "source": [
    "loc_mapping = pd.read_csv('/Users/anastasia.petrie/Desktop/sfdat22_work/Project/data/states_list.csv')"
   ]
  },
  {
   "cell_type": "code",
   "execution_count": 42,
   "metadata": {
    "collapsed": false
   },
   "outputs": [
    {
     "name": "stdout",
     "output_type": "stream",
     "text": [
      "        State Abbreviation\n",
      "0     Alabama           AL\n",
      "1      Alaska           AK\n",
      "2     Arizona           AZ\n",
      "3    Arkansas           AR\n",
      "4  California           CA\n"
     ]
    }
   ],
   "source": [
    "print loc_mapping.head()"
   ]
  },
  {
   "cell_type": "code",
   "execution_count": 43,
   "metadata": {
    "collapsed": false
   },
   "outputs": [],
   "source": [
    "loc_mapping['State'] = loc_mapping_csv['State'].str.upper().str.replace(' ', '+')"
   ]
  },
  {
   "cell_type": "code",
   "execution_count": 44,
   "metadata": {
    "collapsed": false
   },
   "outputs": [
    {
     "data": {
      "text/html": [
       "<div>\n",
       "<table border=\"1\" class=\"dataframe\">\n",
       "  <thead>\n",
       "    <tr style=\"text-align: right;\">\n",
       "      <th></th>\n",
       "      <th>State</th>\n",
       "      <th>Abbreviation</th>\n",
       "    </tr>\n",
       "  </thead>\n",
       "  <tbody>\n",
       "    <tr>\n",
       "      <th>0</th>\n",
       "      <td>ALABAMA</td>\n",
       "      <td>AL</td>\n",
       "    </tr>\n",
       "    <tr>\n",
       "      <th>1</th>\n",
       "      <td>ALASKA</td>\n",
       "      <td>AK</td>\n",
       "    </tr>\n",
       "    <tr>\n",
       "      <th>2</th>\n",
       "      <td>ARIZONA</td>\n",
       "      <td>AZ</td>\n",
       "    </tr>\n",
       "    <tr>\n",
       "      <th>3</th>\n",
       "      <td>ARKANSAS</td>\n",
       "      <td>AR</td>\n",
       "    </tr>\n",
       "    <tr>\n",
       "      <th>4</th>\n",
       "      <td>CALIFORNIA</td>\n",
       "      <td>CA</td>\n",
       "    </tr>\n",
       "  </tbody>\n",
       "</table>\n",
       "</div>"
      ],
      "text/plain": [
       "        State Abbreviation\n",
       "0     ALABAMA           AL\n",
       "1      ALASKA           AK\n",
       "2     ARIZONA           AZ\n",
       "3    ARKANSAS           AR\n",
       "4  CALIFORNIA           CA"
      ]
     },
     "execution_count": 44,
     "metadata": {},
     "output_type": "execute_result"
    }
   ],
   "source": [
    "loc_mapping.head()"
   ]
  },
  {
   "cell_type": "code",
   "execution_count": 54,
   "metadata": {
    "collapsed": false
   },
   "outputs": [],
   "source": [
    "state_abv = dict(zip(loc_mapping.State, loc_mapping.Abbreviation))"
   ]
  },
  {
   "cell_type": "code",
   "execution_count": 55,
   "metadata": {
    "collapsed": false
   },
   "outputs": [
    {
     "name": "stdout",
     "output_type": "stream",
     "text": [
      "{'VERMONT': 'VT', 'GEORGIA': 'GA', 'IOWA': 'IA', 'NORTH+DAKOTA': 'ND', 'KANSAS': 'KS', 'FLORIDA': 'FL', 'VIRGINIA': 'VA', 'ALASKA': 'AK', 'NORTH+CAROLINA': 'NC', 'NEW+JERSEY': 'NJ', 'CALIFORNIA': 'CA', 'ALABAMA': 'AL', 'IDAHO': 'ID', 'RHODE+ISLAND': 'RI', 'DISTRICT+OF+COLUMBIA': 'DC', 'DELAWARE': 'DE', 'HAWAII': 'HI', 'ILLINOIS': 'IL', 'CONNECTICUT': 'CT', 'MONTANA': 'MT', 'SOUTH+DAKOTA': 'SD', 'MASSACHUSETTS': 'MA', 'OHIO': 'OH', 'MARYLAND': 'MD', 'WEST+VIRGINIA': 'WV', 'MISSISSIPPI': 'MS', 'TENNESSEE': 'TN', 'COLORADO': 'CO', 'UTAH': 'UT', 'MICHIGAN': 'MI', 'WYOMING': 'WY', 'WASHINGTON': 'WA', 'MINNESOTA': 'MN', 'OREGON': 'OR', 'INDIANA': 'IN', 'NEVADA': 'NV', 'LOUISIANA': 'LA', 'SOUTH+CAROLINA': 'SC', 'NEW+HAMPSHIRE': 'NH', 'NEW+MEXICO': 'NM', 'ARIZONA': 'AZ', 'WISCONSIN': 'WI', 'PENNSYLVANIA': 'PA', 'OKLAHOMA': 'OK', 'KENTUCKY': 'KY', 'NEBRASKA': 'NE', 'ARKANSAS': 'AR', 'MISSOURI': 'MO', 'TEXAS': 'TX', 'NEW+YORK': 'NY', 'MAINE': 'ME'}\n"
     ]
    }
   ],
   "source": [
    "print state_abv"
   ]
  },
  {
   "cell_type": "code",
   "execution_count": null,
   "metadata": {
    "collapsed": true
   },
   "outputs": [],
   "source": []
  }
 ],
 "metadata": {
  "kernelspec": {
   "display_name": "Python 2",
   "language": "python",
   "name": "python2"
  },
  "language_info": {
   "codemirror_mode": {
    "name": "ipython",
    "version": 2
   },
   "file_extension": ".py",
   "mimetype": "text/x-python",
   "name": "python",
   "nbconvert_exporter": "python",
   "pygments_lexer": "ipython2",
   "version": "2.7.11"
  }
 },
 "nbformat": 4,
 "nbformat_minor": 0
}
