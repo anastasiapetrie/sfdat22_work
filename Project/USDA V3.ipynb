{
 "cells": [
  {
   "cell_type": "code",
   "execution_count": 3,
   "metadata": {
    "collapsed": true
   },
   "outputs": [],
   "source": [
    "import pandas as pd"
   ]
  },
  {
   "cell_type": "code",
   "execution_count": 10,
   "metadata": {
    "collapsed": false
   },
   "outputs": [],
   "source": [
    "tomatoes = pd.read_csv('/Users/anastasia.petrie/Desktop/USDA Calc/Data/tomato_Report.csv')"
   ]
  },
  {
   "cell_type": "code",
   "execution_count": 12,
   "metadata": {
    "collapsed": false
   },
   "outputs": [
    {
     "data": {
      "text/html": [
       "<div>\n",
       "<table border=\"1\" class=\"dataframe\">\n",
       "  <thead>\n",
       "    <tr style=\"text-align: right;\">\n",
       "      <th></th>\n",
       "      <th>Commodity Name</th>\n",
       "      <th>City Name</th>\n",
       "      <th>Type</th>\n",
       "      <th>Package</th>\n",
       "      <th>Variety</th>\n",
       "      <th>Sub Variety</th>\n",
       "      <th>Grade</th>\n",
       "      <th>Date</th>\n",
       "      <th>Low Price</th>\n",
       "      <th>High Price</th>\n",
       "      <th>...</th>\n",
       "      <th>Purchase Lot Size</th>\n",
       "      <th>Section or Sale</th>\n",
       "      <th>Import/Export</th>\n",
       "      <th>Supply Tone</th>\n",
       "      <th>Demand Tone</th>\n",
       "      <th>Basis of Sale</th>\n",
       "      <th>Market Tone</th>\n",
       "      <th>Price Comment</th>\n",
       "      <th>Comments</th>\n",
       "      <th>Rpt City</th>\n",
       "    </tr>\n",
       "  </thead>\n",
       "  <tbody>\n",
       "    <tr>\n",
       "      <th>0</th>\n",
       "      <td>TOMATOES</td>\n",
       "      <td>CENTRAL DISTRICT CALIFORNIA</td>\n",
       "      <td>NaN</td>\n",
       "      <td>NaN</td>\n",
       "      <td>NaN</td>\n",
       "      <td>NaN</td>\n",
       "      <td>NaN</td>\n",
       "      <td>10/30/15</td>\n",
       "      <td>NaN</td>\n",
       "      <td>NaN</td>\n",
       "      <td>...</td>\n",
       "      <td>NaN</td>\n",
       "      <td>NaN</td>\n",
       "      <td>NaN</td>\n",
       "      <td>LIGHT.</td>\n",
       "      <td>NaN</td>\n",
       "      <td>Sales F.O.B. Shipping Point and/or Delivered S...</td>\n",
       "      <td>NaN</td>\n",
       "      <td>through the week of November 15. LAST REPORT</td>\n",
       "      <td>Extra services included. Quality and condition...</td>\n",
       "      <td>PHOENIX, AZ</td>\n",
       "    </tr>\n",
       "    <tr>\n",
       "      <th>1</th>\n",
       "      <td>TOMATOES</td>\n",
       "      <td>CENTRAL DISTRICT CALIFORNIA</td>\n",
       "      <td>NaN</td>\n",
       "      <td>25 lb cartons loose</td>\n",
       "      <td>MATURE GREENS</td>\n",
       "      <td>NaN</td>\n",
       "      <td>NaN</td>\n",
       "      <td>6/15/15</td>\n",
       "      <td>7.95</td>\n",
       "      <td>9.95</td>\n",
       "      <td>...</td>\n",
       "      <td>NaN</td>\n",
       "      <td>NaN</td>\n",
       "      <td>NaN</td>\n",
       "      <td>NaN</td>\n",
       "      <td>LIGHT.</td>\n",
       "      <td>Sales F.O.B. Shipping Point and/or Delivered S...</td>\n",
       "      <td>NaN</td>\n",
       "      <td>NaN</td>\n",
       "      <td>Extra services included.</td>\n",
       "      <td>PHOENIX, AZ</td>\n",
       "    </tr>\n",
       "    <tr>\n",
       "      <th>2</th>\n",
       "      <td>TOMATOES</td>\n",
       "      <td>CENTRAL DISTRICT CALIFORNIA</td>\n",
       "      <td>NaN</td>\n",
       "      <td>25 lb cartons loose</td>\n",
       "      <td>MATURE GREENS</td>\n",
       "      <td>NaN</td>\n",
       "      <td>NaN</td>\n",
       "      <td>6/15/15</td>\n",
       "      <td>7.95</td>\n",
       "      <td>9.95</td>\n",
       "      <td>...</td>\n",
       "      <td>NaN</td>\n",
       "      <td>NaN</td>\n",
       "      <td>NaN</td>\n",
       "      <td>NaN</td>\n",
       "      <td>LIGHT.</td>\n",
       "      <td>Sales F.O.B. Shipping Point and/or Delivered S...</td>\n",
       "      <td>NaN</td>\n",
       "      <td>NaN</td>\n",
       "      <td>Extra services included.</td>\n",
       "      <td>PHOENIX, AZ</td>\n",
       "    </tr>\n",
       "    <tr>\n",
       "      <th>3</th>\n",
       "      <td>TOMATOES</td>\n",
       "      <td>CENTRAL DISTRICT CALIFORNIA</td>\n",
       "      <td>NaN</td>\n",
       "      <td>25 lb cartons loose</td>\n",
       "      <td>MATURE GREENS</td>\n",
       "      <td>NaN</td>\n",
       "      <td>NaN</td>\n",
       "      <td>6/15/15</td>\n",
       "      <td>7.95</td>\n",
       "      <td>9.95</td>\n",
       "      <td>...</td>\n",
       "      <td>NaN</td>\n",
       "      <td>NaN</td>\n",
       "      <td>NaN</td>\n",
       "      <td>NaN</td>\n",
       "      <td>LIGHT.</td>\n",
       "      <td>Sales F.O.B. Shipping Point and/or Delivered S...</td>\n",
       "      <td>NaN</td>\n",
       "      <td>FIRST REPORT</td>\n",
       "      <td>Extra services included.</td>\n",
       "      <td>PHOENIX, AZ</td>\n",
       "    </tr>\n",
       "    <tr>\n",
       "      <th>4</th>\n",
       "      <td>TOMATOES</td>\n",
       "      <td>CENTRAL DISTRICT CALIFORNIA</td>\n",
       "      <td>NaN</td>\n",
       "      <td>25 lb cartons loose</td>\n",
       "      <td>MATURE GREENS</td>\n",
       "      <td>NaN</td>\n",
       "      <td>NaN</td>\n",
       "      <td>6/16/15</td>\n",
       "      <td>6.95</td>\n",
       "      <td>7.95</td>\n",
       "      <td>...</td>\n",
       "      <td>NaN</td>\n",
       "      <td>NaN</td>\n",
       "      <td>NaN</td>\n",
       "      <td>NaN</td>\n",
       "      <td>LIGHT.</td>\n",
       "      <td>Sales F.O.B. Shipping Point and/or Delivered S...</td>\n",
       "      <td>LOWER.</td>\n",
       "      <td>occasional higher</td>\n",
       "      <td>Extra services included.</td>\n",
       "      <td>PHOENIX, AZ</td>\n",
       "    </tr>\n",
       "  </tbody>\n",
       "</table>\n",
       "<p>5 rows × 32 columns</p>\n",
       "</div>"
      ],
      "text/plain": [
       "  Commodity Name                    City Name  Type              Package  \\\n",
       "0       TOMATOES  CENTRAL DISTRICT CALIFORNIA   NaN                  NaN   \n",
       "1       TOMATOES  CENTRAL DISTRICT CALIFORNIA   NaN  25 lb cartons loose   \n",
       "2       TOMATOES  CENTRAL DISTRICT CALIFORNIA   NaN  25 lb cartons loose   \n",
       "3       TOMATOES  CENTRAL DISTRICT CALIFORNIA   NaN  25 lb cartons loose   \n",
       "4       TOMATOES  CENTRAL DISTRICT CALIFORNIA   NaN  25 lb cartons loose   \n",
       "\n",
       "         Variety  Sub Variety  Grade      Date  Low Price  High Price  \\\n",
       "0            NaN          NaN    NaN  10/30/15        NaN         NaN   \n",
       "1  MATURE GREENS          NaN    NaN   6/15/15       7.95        9.95   \n",
       "2  MATURE GREENS          NaN    NaN   6/15/15       7.95        9.95   \n",
       "3  MATURE GREENS          NaN    NaN   6/15/15       7.95        9.95   \n",
       "4  MATURE GREENS          NaN    NaN   6/16/15       6.95        7.95   \n",
       "\n",
       "      ...       Purchase Lot Size  Section or Sale  Import/Export Supply Tone  \\\n",
       "0     ...                     NaN              NaN            NaN      LIGHT.   \n",
       "1     ...                     NaN              NaN            NaN         NaN   \n",
       "2     ...                     NaN              NaN            NaN         NaN   \n",
       "3     ...                     NaN              NaN            NaN         NaN   \n",
       "4     ...                     NaN              NaN            NaN         NaN   \n",
       "\n",
       "   Demand Tone                                      Basis of Sale  \\\n",
       "0          NaN  Sales F.O.B. Shipping Point and/or Delivered S...   \n",
       "1       LIGHT.  Sales F.O.B. Shipping Point and/or Delivered S...   \n",
       "2       LIGHT.  Sales F.O.B. Shipping Point and/or Delivered S...   \n",
       "3       LIGHT.  Sales F.O.B. Shipping Point and/or Delivered S...   \n",
       "4       LIGHT.  Sales F.O.B. Shipping Point and/or Delivered S...   \n",
       "\n",
       "   Market Tone                                 Price Comment  \\\n",
       "0          NaN  through the week of November 15. LAST REPORT   \n",
       "1          NaN                                           NaN   \n",
       "2          NaN                                           NaN   \n",
       "3          NaN                                  FIRST REPORT   \n",
       "4       LOWER.                             occasional higher   \n",
       "\n",
       "                                            Comments     Rpt City  \n",
       "0  Extra services included. Quality and condition...  PHOENIX, AZ  \n",
       "1                           Extra services included.  PHOENIX, AZ  \n",
       "2                           Extra services included.  PHOENIX, AZ  \n",
       "3                           Extra services included.  PHOENIX, AZ  \n",
       "4                           Extra services included.  PHOENIX, AZ  \n",
       "\n",
       "[5 rows x 32 columns]"
      ]
     },
     "execution_count": 12,
     "metadata": {},
     "output_type": "execute_result"
    }
   ],
   "source": [
    "tomatoes.head(5)"
   ]
  },
  {
   "cell_type": "code",
   "execution_count": 16,
   "metadata": {
    "collapsed": false
   },
   "outputs": [
    {
     "data": {
      "text/plain": [
       "array(['CENTRAL DISTRICT CALIFORNIA', 'MEXICO CROSSINGS THROUGH OTAY MESA'], dtype=object)"
      ]
     },
     "execution_count": 16,
     "metadata": {},
     "output_type": "execute_result"
    }
   ],
   "source": [
    "tomatoes['City Name'].unique()"
   ]
  },
  {
   "cell_type": "code",
   "execution_count": 17,
   "metadata": {
    "collapsed": false
   },
   "outputs": [
    {
     "data": {
      "text/plain": [
       "array([nan, 'MATURE GREENS', 'VINE RIPES'], dtype=object)"
      ]
     },
     "execution_count": 17,
     "metadata": {},
     "output_type": "execute_result"
    }
   ],
   "source": [
    "tomatoes['Variety'].unique()"
   ]
  },
  {
   "cell_type": "code",
   "execution_count": null,
   "metadata": {
    "collapsed": true
   },
   "outputs": [],
   "source": []
  }
 ],
 "metadata": {
  "kernelspec": {
   "display_name": "Python 2",
   "language": "python",
   "name": "python2"
  },
  "language_info": {
   "codemirror_mode": {
    "name": "ipython",
    "version": 2
   },
   "file_extension": ".py",
   "mimetype": "text/x-python",
   "name": "python",
   "nbconvert_exporter": "python",
   "pygments_lexer": "ipython2",
   "version": "2.7.11"
  }
 },
 "nbformat": 4,
 "nbformat_minor": 0
}
