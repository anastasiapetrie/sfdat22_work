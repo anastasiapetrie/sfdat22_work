{
 "cells": [
  {
   "cell_type": "code",
   "execution_count": null,
   "metadata": {
    "collapsed": true
   },
   "outputs": [],
   "source": [
    "https://www.marketnews.usda.gov/mnp/fv-report?rowDisplayMax=25&commAbr=&startIndex=1&reportConfig=true&reportConfig=true&reportConfig=true&reportConfig=true&repType=termPriceDaily&repTypeChanger=termPriceDaily&locName=LOS+ANGELES&type=termPrice&hidecolumn=on&locChoose=location&locAbrlength=1&locAbr=HC&commodityClass=allcommodity&y=13&y=9&y=5&y=11&x=32&x=43&x=38&x=31&locAbrPass=ALL%7C%7C&refine=false&step3date=true&repDate=&endDate=&organic=&environment=&_environment=1&Run.x=38&Run.y=11&Run=Run"
   ]
  }
 ],
 "metadata": {
  "kernelspec": {
   "display_name": "Python 2",
   "language": "python",
   "name": "python2"
  },
  "language_info": {
   "codemirror_mode": {
    "name": "ipython",
    "version": 2
   },
   "file_extension": ".py",
   "mimetype": "text/x-python",
   "name": "python",
   "nbconvert_exporter": "python",
   "pygments_lexer": "ipython2",
   "version": "2.7.11"
  }
 },
 "nbformat": 4,
 "nbformat_minor": 0
}
