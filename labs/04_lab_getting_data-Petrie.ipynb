{
 "cells": [
  {
   "cell_type": "code",
   "execution_count": 91,
   "metadata": {
    "collapsed": true
   },
   "outputs": [],
   "source": [
    "import requests\n",
    "from bs4 import BeautifulSoup"
   ]
  },
  {
   "cell_type": "code",
   "execution_count": null,
   "metadata": {
    "collapsed": true
   },
   "outputs": [],
   "source": [
    "##### INDEED #####\n",
    "\n",
    "# a job posting website (as well as resume hosting)\n",
    "# scrape some (or A LOT) of job postings from indeed for the job \"data scientist\"\n",
    "# Plan of Action:\n",
    "# 1. Figure out the url for getting the summaries (by doing it yourself!)\n",
    "# 2. Scrape the summary\n",
    "# 3. Figure out how to change the page by changing the URL (hint, click the next page button and see how the url changes)\n",
    "# 4. BONUS: count the most used words in the sumaries\n"
   ]
  },
  {
   "cell_type": "code",
   "execution_count": 32,
   "metadata": {
    "collapsed": false
   },
   "outputs": [
    {
     "name": "stdout",
     "output_type": "stream",
     "text": [
      "Data Scientist\n"
     ]
    }
   ],
   "source": [
    "url = 'http://www.indeed.com/jobs?q=data+scientist'\n",
    "response = requests.get(url)\n",
    "parser = BeautifulSoup(response.text, 'html.parser')\n",
    "target_tag = parser.find(\"a\", attrs = {\"target\": \"_blank\" })\n",
    "print target_tag['title']"
   ]
  },
  {
   "cell_type": "code",
   "execution_count": 59,
   "metadata": {
    "collapsed": false
   },
   "outputs": [
    {
     "name": "stdout",
     "output_type": "stream",
     "text": [
      "Data Scientist\n",
      "Data Scientist\n",
      "Data Scientist\n",
      "Statistician / Quantitative Analyst, Engineering\n",
      "Data Scientist\n",
      "Data Scientist\n",
      "Data Scientist, Product Analytics\n",
      "Data Scientist\n",
      "Data Scientist\n",
      "Data Scientist\n",
      "Data Scientist\n",
      "Data Scientist\n",
      "Data Scientist, Analytics\n",
      "Watson Health - Data Scientist\n",
      "Data Scientist\n"
     ]
    }
   ],
   "source": [
    "url = 'http://www.indeed.com/jobs?q=data+scientist'\n",
    "response = requests.get(url)\n",
    "parser = BeautifulSoup(response.text, 'html.parser')\n",
    "all_tags = parser.findAll(\"a\", attrs = {\"data-tn-element\": \"jobTitle\"})\n",
    "for tag in all_tags:\n",
    "    print tag['title']"
   ]
  },
  {
   "cell_type": "code",
   "execution_count": 60,
   "metadata": {
    "collapsed": false
   },
   "outputs": [
    {
     "name": "stdout",
     "output_type": "stream",
     "text": [
      "Data Scientist\n",
      "Data Scientist\n",
      "Jr. Data Scientist\n",
      "Data Scientist\n",
      "Data Scientist, BuzzFeed Motion Pictures\n",
      "Data Scientist, Growth\n",
      "Data Scientist\n",
      "Data Scientist\n",
      "Data Scientist ( remote base candidates welcome)\n",
      "Research Associate - R and D Data Scientist\n",
      "Lead Data Scientist\n",
      "Data Scientist\n",
      "Watson Health - Data Scientist\n",
      "Data Scientist\n",
      "Data Scientist\n"
     ]
    }
   ],
   "source": [
    "url = 'http://www.indeed.com/jobs?q=data+scientist&start=20'\n",
    "response = requests.get(url)\n",
    "parser = BeautifulSoup(response.text, 'html.parser')\n",
    "all_tags = parser.findAll(\"a\", attrs = {\"data-tn-element\": \"jobTitle\"})\n",
    "for tag in all_tags:\n",
    "    print tag['title']"
   ]
  },
  {
   "cell_type": "code",
   "execution_count": null,
   "metadata": {
    "collapsed": true
   },
   "outputs": [],
   "source": [
    "#### UFO ######\n",
    "\n",
    "#see seperate file UFO lab 3 Petrie\n",
    "\n",
    "# SCRAPE ALL SIGHTINGS in 2015\n",
    "# Plan of action\n",
    "# 1. Figure out the pattern to get a certain year and month from nuforc\n",
    "# 2. Scrape each sightings\n",
    "# 3. Make a dataframe out of it\n",
    "# 4. make a day column\n",
    "# 5. graph each day in 2015 and see which day had the most! (Is it July 4th?)"
   ]
  },
  {
   "cell_type": "code",
   "execution_count": null,
   "metadata": {
    "collapsed": true
   },
   "outputs": [],
   "source": [
    "##### TWITTER ######\n",
    "\n",
    "# Create a dataframe where each row is a tweet that uses any tag you choose!\n",
    "# include a column for date, text, user handle, user name, and user image\n",
    "# You can use the normal query method and not stream for this!"
   ]
  },
  {
   "cell_type": "code",
   "execution_count": null,
   "metadata": {
    "collapsed": true
   },
   "outputs": [],
   "source": []
  }
 ],
 "metadata": {
  "kernelspec": {
   "display_name": "Python 2",
   "language": "python",
   "name": "python2"
  },
  "language_info": {
   "codemirror_mode": {
    "name": "ipython",
    "version": 2
   },
   "file_extension": ".py",
   "mimetype": "text/x-python",
   "name": "python",
   "nbconvert_exporter": "python",
   "pygments_lexer": "ipython2",
   "version": "2.7.11"
  }
 },
 "nbformat": 4,
 "nbformat_minor": 0
}
