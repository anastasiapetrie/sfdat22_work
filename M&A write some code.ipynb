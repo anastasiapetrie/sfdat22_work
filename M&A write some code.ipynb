{
 "cells": [
  {
   "cell_type": "code",
   "execution_count": 8,
   "metadata": {
    "collapsed": false
   },
   "outputs": [
    {
     "name": "stdout",
     "output_type": "stream",
     "text": [
      "Anastasia\n"
     ]
    }
   ],
   "source": [
    "'''\n",
    "variables, the smallest blocks\n",
    "a bucket you can put a value in that you named\n",
    "'''\n",
    "\n",
    "name = 'Anastasia'\n",
    "print name"
   ]
  },
  {
   "cell_type": "code",
   "execution_count": 9,
   "metadata": {
    "collapsed": false
   },
   "outputs": [
    {
     "name": "stdout",
     "output_type": "stream",
     "text": [
      "Quincy\n"
     ]
    }
   ],
   "source": [
    "name = 'Quincy'\n",
    "print name"
   ]
  },
  {
   "cell_type": "code",
   "execution_count": 10,
   "metadata": {
    "collapsed": true
   },
   "outputs": [],
   "source": [
    "name = 12"
   ]
  },
  {
   "cell_type": "code",
   "execution_count": 11,
   "metadata": {
    "collapsed": false
   },
   "outputs": [
    {
     "name": "stdout",
     "output_type": "stream",
     "text": [
      "12\n"
     ]
    }
   ],
   "source": [
    "print name"
   ]
  },
  {
   "cell_type": "code",
   "execution_count": 17,
   "metadata": {
    "collapsed": false
   },
   "outputs": [],
   "source": [
    "'''\n",
    "Lists and Dicts \n",
    "Lists are ordered lists of stuff - the order is called the index starting from 0\n",
    "[1,2,3,4,5,6]\n",
    "\n",
    "0. \"Anastasia\"\n",
    "1. \"Matt\"\n",
    "2. \"Quincy\"\n",
    "\n",
    "Dict comprised of key value pairs\n",
    "describe thr properities of a thing (like UFO sighting, all of the info that maekes up that sighting)\n",
    "'''\n",
    "\n",
    "family = ['Anastasia', 'Matt', 'Quincy'] #list\n",
    "\n",
    "family = {0:'Anastasia', 1:'Matt', 2:'Quincy'} #dict\n",
    "\n",
    "Quincy = {\n",
    "    'furColor':'white',\n",
    "    'age': 6,\n",
    "    'name': \"Quincy\",\n",
    "    'size': \"medium\",\n",
    "    'favoriteToys': [\"Whale\", \"Seahorse\", \"Rope\"]\n",
    "}\n",
    "\n",
    "Anastasia = {\n",
    "    'firstName': 'Anastasia',\n",
    "    'lastName': 'Petrie',\n",
    "    'city': 'Oakland',\n",
    "    'age': 35,\n",
    "    'hair': 'graying',\n",
    "}\n",
    "\n",
    "Matt = {\n",
    "    'firstName': 'Matt',\n",
    "    'lastName': 'Petrie',\n",
    "    'city': 'Oakland',\n",
    "    'age': 33,\n",
    "    'hair': 'present',\n",
    "}\n",
    "\n",
    "Bob = {\n",
    "    'firstName': 'Bob',\n",
    "    'lastName': 'Kneufel',\n",
    "    'city': 'Mars',\n",
    "    'age': 407,\n",
    "    'hair': 'purple',\n",
    "}"
   ]
  },
  {
   "cell_type": "code",
   "execution_count": 21,
   "metadata": {
    "collapsed": false
   },
   "outputs": [
    {
     "name": "stdout",
     "output_type": "stream",
     "text": [
      "Anastasia\n"
     ]
    }
   ],
   "source": [
    "print Anastasia['firstName']"
   ]
  },
  {
   "cell_type": "code",
   "execution_count": 22,
   "metadata": {
    "collapsed": false
   },
   "outputs": [
    {
     "name": "stdout",
     "output_type": "stream",
     "text": [
      "407\n"
     ]
    }
   ],
   "source": [
    "print Bob['age']"
   ]
  },
  {
   "cell_type": "code",
   "execution_count": 24,
   "metadata": {
    "collapsed": false
   },
   "outputs": [
    {
     "data": {
      "text/plain": [
       "5"
      ]
     },
     "execution_count": 24,
     "metadata": {},
     "output_type": "execute_result"
    }
   ],
   "source": [
    "len(Bob)"
   ]
  },
  {
   "cell_type": "code",
   "execution_count": 25,
   "metadata": {
    "collapsed": false
   },
   "outputs": [
    {
     "data": {
      "text/plain": [
       "['hair', 'lastName', 'age', 'firstName', 'city']"
      ]
     },
     "execution_count": 25,
     "metadata": {},
     "output_type": "execute_result"
    }
   ],
   "source": [
    "Bob.keys()"
   ]
  },
  {
   "cell_type": "code",
   "execution_count": 26,
   "metadata": {
    "collapsed": false
   },
   "outputs": [
    {
     "data": {
      "text/plain": [
       "True"
      ]
     },
     "execution_count": 26,
     "metadata": {},
     "output_type": "execute_result"
    }
   ],
   "source": [
    "Bob.has_key('hair')"
   ]
  },
  {
   "cell_type": "code",
   "execution_count": 27,
   "metadata": {
    "collapsed": false
   },
   "outputs": [
    {
     "data": {
      "text/plain": [
       "'purple'"
      ]
     },
     "execution_count": 27,
     "metadata": {},
     "output_type": "execute_result"
    }
   ],
   "source": [
    "Bob['hair']"
   ]
  },
  {
   "cell_type": "code",
   "execution_count": 28,
   "metadata": {
    "collapsed": true
   },
   "outputs": [],
   "source": [
    "Bob['hair'] = 'orange'"
   ]
  },
  {
   "cell_type": "code",
   "execution_count": 29,
   "metadata": {
    "collapsed": false
   },
   "outputs": [
    {
     "name": "stdout",
     "output_type": "stream",
     "text": [
      "{'hair': 'orange', 'lastName': 'Kneufel', 'age': 407, 'firstName': 'Bob', 'city': 'Mars'}\n"
     ]
    }
   ],
   "source": [
    "print Bob"
   ]
  },
  {
   "cell_type": "code",
   "execution_count": 30,
   "metadata": {
    "collapsed": true
   },
   "outputs": [],
   "source": [
    "Bob['firstName'] = 'Fred'"
   ]
  },
  {
   "cell_type": "code",
   "execution_count": 31,
   "metadata": {
    "collapsed": true
   },
   "outputs": [],
   "source": [
    "Fred = Bob"
   ]
  },
  {
   "cell_type": "code",
   "execution_count": 32,
   "metadata": {
    "collapsed": false
   },
   "outputs": [
    {
     "name": "stdout",
     "output_type": "stream",
     "text": [
      "{'hair': 'orange', 'lastName': 'Kneufel', 'age': 407, 'firstName': 'Fred', 'city': 'Mars'}\n"
     ]
    }
   ],
   "source": [
    "print Fred"
   ]
  },
  {
   "cell_type": "code",
   "execution_count": 33,
   "metadata": {
    "collapsed": true
   },
   "outputs": [],
   "source": [
    "Bob['hair'] = \"fushia\""
   ]
  },
  {
   "cell_type": "code",
   "execution_count": 34,
   "metadata": {
    "collapsed": false
   },
   "outputs": [
    {
     "name": "stdout",
     "output_type": "stream",
     "text": [
      "{'hair': 'fushia', 'lastName': 'Kneufel', 'age': 407, 'firstName': 'Fred', 'city': 'Mars'}\n"
     ]
    }
   ],
   "source": [
    "print Fred"
   ]
  },
  {
   "cell_type": "code",
   "execution_count": 36,
   "metadata": {
    "collapsed": true
   },
   "outputs": [],
   "source": [
    "Fred = Bob.copy()"
   ]
  },
  {
   "cell_type": "raw",
   "metadata": {},
   "source": [
    "Fred"
   ]
  },
  {
   "cell_type": "code",
   "execution_count": 37,
   "metadata": {
    "collapsed": false
   },
   "outputs": [
    {
     "name": "stdout",
     "output_type": "stream",
     "text": [
      "{'hair': 'fushia', 'lastName': 'Kneufel', 'age': 407, 'firstName': 'Fred', 'city': 'Mars'}\n"
     ]
    }
   ],
   "source": [
    "print Fred"
   ]
  },
  {
   "cell_type": "code",
   "execution_count": 38,
   "metadata": {
    "collapsed": true
   },
   "outputs": [],
   "source": [
    "Bob['hair'] = 'magenta'"
   ]
  },
  {
   "cell_type": "code",
   "execution_count": 39,
   "metadata": {
    "collapsed": false
   },
   "outputs": [
    {
     "name": "stdout",
     "output_type": "stream",
     "text": [
      "{'hair': 'fushia', 'lastName': 'Kneufel', 'age': 407, 'firstName': 'Fred', 'city': 'Mars'}\n",
      "{'hair': 'magenta', 'lastName': 'Kneufel', 'age': 407, 'firstName': 'Fred', 'city': 'Mars'}\n"
     ]
    }
   ],
   "source": [
    "print Fred\n",
    "print Bob"
   ]
  },
  {
   "cell_type": "code",
   "execution_count": 45,
   "metadata": {
    "collapsed": false
   },
   "outputs": [],
   "source": [
    "#Function Junction! What's your conjunction\n",
    "#name, just like a variable, can take arguments (what's in the parenthese) you \"pass in\", does stuff, and return a value (optionaly)\n",
    "\n",
    "def add(a, b): \n",
    "   c = a + b\n",
    "   return c"
   ]
  },
  {
   "cell_type": "code",
   "execution_count": 46,
   "metadata": {
    "collapsed": false
   },
   "outputs": [
    {
     "data": {
      "text/plain": [
       "5"
      ]
     },
     "execution_count": 46,
     "metadata": {},
     "output_type": "execute_result"
    }
   ],
   "source": [
    "add(2,3)"
   ]
  },
  {
   "cell_type": "code",
   "execution_count": 50,
   "metadata": {
    "collapsed": false
   },
   "outputs": [],
   "source": [
    "def get_hair(person):\n",
    "    return person['hair']"
   ]
  },
  {
   "cell_type": "code",
   "execution_count": 52,
   "metadata": {
    "collapsed": false
   },
   "outputs": [
    {
     "data": {
      "text/plain": [
       "'present'"
      ]
     },
     "execution_count": 52,
     "metadata": {},
     "output_type": "execute_result"
    }
   ],
   "source": [
    "get_hair(Matt)"
   ]
  },
  {
   "cell_type": "code",
   "execution_count": 58,
   "metadata": {
    "collapsed": false
   },
   "outputs": [],
   "source": [
    "def full_name(person):\n",
    "    return person['firstName'] + ' ' + person['lastName']\n",
    "    "
   ]
  },
  {
   "cell_type": "code",
   "execution_count": 59,
   "metadata": {
    "collapsed": false
   },
   "outputs": [
    {
     "data": {
      "text/plain": [
       "'Anastasia Petrie'"
      ]
     },
     "execution_count": 59,
     "metadata": {},
     "output_type": "execute_result"
    }
   ],
   "source": [
    "full_name(Anastasia)"
   ]
  },
  {
   "cell_type": "code",
   "execution_count": 60,
   "metadata": {
    "collapsed": true
   },
   "outputs": [],
   "source": [
    "people = [Anastasia, Bob, Matt, Fred]"
   ]
  },
  {
   "cell_type": "code",
   "execution_count": 62,
   "metadata": {
    "collapsed": false
   },
   "outputs": [
    {
     "name": "stdout",
     "output_type": "stream",
     "text": [
      "Anastasia Petrie\n",
      "Fred Kneufel\n",
      "Matt Petrie\n",
      "Fred Kneufel\n"
     ]
    }
   ],
   "source": [
    "for person in people:\n",
    "    print full_name(person)"
   ]
  },
  {
   "cell_type": "code",
   "execution_count": 64,
   "metadata": {
    "collapsed": false
   },
   "outputs": [
    {
     "name": "stdout",
     "output_type": "stream",
     "text": [
      "graying\n",
      "magenta\n",
      "present\n",
      "fushia\n"
     ]
    }
   ],
   "source": [
    "for person in people:\n",
    "    print person['hair']"
   ]
  },
  {
   "cell_type": "code",
   "execution_count": 66,
   "metadata": {
    "collapsed": true
   },
   "outputs": [],
   "source": [
    "full_names = []\n",
    "\n",
    "for person in people:\n",
    "    full_names.append(full_name(person))"
   ]
  },
  {
   "cell_type": "code",
   "execution_count": 67,
   "metadata": {
    "collapsed": false
   },
   "outputs": [
    {
     "name": "stdout",
     "output_type": "stream",
     "text": [
      "['Anastasia Petrie', 'Fred Kneufel', 'Matt Petrie', 'Fred Kneufel']\n"
     ]
    }
   ],
   "source": [
    "print full_names"
   ]
  },
  {
   "cell_type": "code",
   "execution_count": null,
   "metadata": {
    "collapsed": true
   },
   "outputs": [],
   "source": []
  }
 ],
 "metadata": {
  "kernelspec": {
   "display_name": "Python 2",
   "language": "python",
   "name": "python2"
  },
  "language_info": {
   "codemirror_mode": {
    "name": "ipython",
    "version": 2
   },
   "file_extension": ".py",
   "mimetype": "text/x-python",
   "name": "python",
   "nbconvert_exporter": "python",
   "pygments_lexer": "ipython2",
   "version": "2.7.11"
  }
 },
 "nbformat": 4,
 "nbformat_minor": 0
}
