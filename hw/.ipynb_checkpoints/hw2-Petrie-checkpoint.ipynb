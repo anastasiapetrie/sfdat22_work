{
 "cells": [
  {
   "cell_type": "code",
   "execution_count": 14,
   "metadata": {
    "collapsed": false
   },
   "outputs": [],
   "source": [
    "import tweepy       # python wrapper for twitter api\n",
    "import json\n",
    "import time\n",
    "import requests\n",
    "# step 0, get your own twitter credentials!"
   ]
  },
  {
   "cell_type": "code",
   "execution_count": 15,
   "metadata": {
    "collapsed": false
   },
   "outputs": [],
   "source": [
    "# this is my own personal twitter api information\n",
    "# if you could be so kind as to sign up yourself on both twitter and mashape that'd be great :)\n",
    "# It's FREEEEEEE\n",
    "api_key = '21NZW9pxtV8dzkoxA2uUTKVku'\n",
    "api_secret = 'uwoi6SWshYdqMP3lFu56flQU8fOpFAPINK7qNK3K6OYjL2pIgN'\n",
    "access_token = '4397856207-wjba91DNyODJE744BHbx2sQOxrMr3y5VNfHTJId'\n",
    "access_secret = 'zpix59ydHsC2MC0XygVQmygRRVXjSMKh0KumeCF5ySGkO'"
   ]
  },
  {
   "cell_type": "code",
   "execution_count": 16,
   "metadata": {
    "collapsed": false
   },
   "outputs": [],
   "source": [
    "# Documentation is your friend! http://docs.tweepy.org/en/v3.1.0/\n",
    "auth = tweepy.OAuthHandler(api_key, api_secret)\n",
    "auth.set_access_token(access_token, access_secret)\n",
    "api = tweepy.API(auth) # returns a tweepy authorization handler object"
   ]
  },
  {
   "cell_type": "code",
   "execution_count": 17,
   "metadata": {
    "collapsed": false
   },
   "outputs": [],
   "source": [
    "# 1. Use Twitter API to stream and store tweets (300 per candidate)\n",
    "# explain geocode is doing\n",
    "#geocode is getting tweets from within 50 miles of your location so in my case, Oakland and surrounding areas.\n",
    "bernie_tweets =  api.search(q=\"#berniesanders\", count=100, geocode=\"37.843360, -122.267769,50mi\") + api.search(q='#bernie', count=100, geocode=\"37.843360, -122.267769,50mi\") + api.search(q='#FeelTheBern', count=100, geocode=\"37.781157,-122.398720,50mi\")\n",
    "hilary_tweets = api.search(q='#ImWithHer', count=100, geocode=\"37.843360, -122.267769,50mi\") + api.search(q='#hillaryclinton', count=100, geocode=\"37.843360, -122.267769,50mi\") + api.search(q='#hillary2016', count=100, geocode=\"37.781157,-122.398720,50mi\")\n",
    "the_donald_tweets = api.search(q='#donaldtrump', count=100, geocode=\"37.843360, -122.267769,50mi\") + api.search(q='#trump2016', count=100, geocode=\"37.843360, -122.267769,50mi\") + api.search(q='#trump', count=100, geocode=\"37.781157,-122.398720,50mi\") + api.search(q='#makeamericagreatagain', count=100, geocode=\"37.781157,-122.398720,50mi\")"
   ]
  },
  {
   "cell_type": "code",
   "execution_count": 18,
   "metadata": {
    "collapsed": false
   },
   "outputs": [
    {
     "data": {
      "text/plain": [
       "Status(contributors=None, truncated=False, text=u'RT @JacloPac: When it comes to #Trump supporters, remember Mark Twain.  1st priority 2016 deny #Trump. https://t.co/8nMTLRhqgZ', is_quote_status=False, in_reply_to_status_id=None, id=730574609683120128, favorite_count=0, _api=<tweepy.api.API object at 0x10523f0d0>, author=User(follow_request_sent=False, has_extended_profile=False, profile_use_background_image=True, _json={u'follow_request_sent': False, u'has_extended_profile': False, u'profile_use_background_image': True, u'default_profile_image': False, u'id': 2588141216, u'profile_background_image_url_https': u'https://abs.twimg.com/images/themes/theme1/bg.png', u'verified': False, u'profile_text_color': u'333333', u'profile_image_url_https': u'https://pbs.twimg.com/profile_images/489110435010842624/_3WS9tCV_normal.jpeg', u'profile_sidebar_fill_color': u'DDEEF6', u'entities': {u'description': {u'urls': []}}, u'followers_count': 842, u'profile_sidebar_border_color': u'C0DEED', u'id_str': u'2588141216', u'profile_background_color': u'C0DEED', u'listed_count': 30, u'is_translation_enabled': False, u'utc_offset': None, u'statuses_count': 15066, u'description': u'', u'friends_count': 1592, u'location': u'California, USA', u'profile_link_color': u'0084B4', u'profile_image_url': u'http://pbs.twimg.com/profile_images/489110435010842624/_3WS9tCV_normal.jpeg', u'following': False, u'geo_enabled': False, u'profile_banner_url': u'https://pbs.twimg.com/profile_banners/2588141216/1403727371', u'profile_background_image_url': u'http://abs.twimg.com/images/themes/theme1/bg.png', u'screen_name': u'Hys2pid', u'lang': u'en', u'profile_background_tile': False, u'favourites_count': 13942, u'name': u'Hys2pid', u'notifications': False, u'url': None, u'created_at': u'Wed Jun 25 20:15:26 +0000 2014', u'contributors_enabled': False, u'time_zone': None, u'protected': False, u'default_profile': True, u'is_translator': False}, time_zone=None, id=2588141216, _api=<tweepy.api.API object at 0x10523f0d0>, verified=False, profile_text_color=u'333333', profile_image_url_https=u'https://pbs.twimg.com/profile_images/489110435010842624/_3WS9tCV_normal.jpeg', profile_sidebar_fill_color=u'DDEEF6', is_translator=False, geo_enabled=False, entities={u'description': {u'urls': []}}, followers_count=842, protected=False, id_str=u'2588141216', default_profile_image=False, listed_count=30, lang=u'en', utc_offset=None, statuses_count=15066, description=u'', friends_count=1592, profile_link_color=u'0084B4', profile_image_url=u'http://pbs.twimg.com/profile_images/489110435010842624/_3WS9tCV_normal.jpeg', notifications=False, profile_background_image_url_https=u'https://abs.twimg.com/images/themes/theme1/bg.png', profile_background_color=u'C0DEED', profile_banner_url=u'https://pbs.twimg.com/profile_banners/2588141216/1403727371', profile_background_image_url=u'http://abs.twimg.com/images/themes/theme1/bg.png', name=u'Hys2pid', is_translation_enabled=False, profile_background_tile=False, favourites_count=13942, screen_name=u'Hys2pid', url=None, created_at=datetime.datetime(2014, 6, 25, 20, 15, 26), contributors_enabled=False, location=u'California, USA', profile_sidebar_border_color=u'C0DEED', default_profile=True, following=False), _json={u'contributors': None, u'truncated': False, u'text': u'RT @JacloPac: When it comes to #Trump supporters, remember Mark Twain.  1st priority 2016 deny #Trump. https://t.co/8nMTLRhqgZ', u'is_quote_status': False, u'in_reply_to_status_id': None, u'id': 730574609683120128, u'favorite_count': 0, u'entities': {u'symbols': [], u'user_mentions': [{u'id': 3229506722, u'indices': [3, 12], u'id_str': u'3229506722', u'screen_name': u'JacloPac', u'name': u'JacloPac'}], u'hashtags': [{u'indices': [31, 37], u'text': u'Trump'}, {u'indices': [95, 101], u'text': u'Trump'}], u'urls': [], u'media': [{u'source_user_id': 3229506722, u'source_status_id_str': u'730568259758522368', u'expanded_url': u'http://twitter.com/JacloPac/status/730568259758522368/photo/1', u'display_url': u'pic.twitter.com/8nMTLRhqgZ', u'url': u'https://t.co/8nMTLRhqgZ', u'media_url_https': u'https://pbs.twimg.com/media/CiN_9f8VAAIlRX7.jpg', u'source_user_id_str': u'3229506722', u'source_status_id': 730568259758522368, u'id_str': u'730568259087433730', u'sizes': {u'large': {u'h': 183, u'resize': u'fit', u'w': 207}, u'small': {u'h': 183, u'resize': u'fit', u'w': 207}, u'medium': {u'h': 183, u'resize': u'fit', u'w': 207}, u'thumb': {u'h': 150, u'resize': u'crop', u'w': 150}}, u'indices': [103, 126], u'type': u'photo', u'id': 730568259087433730, u'media_url': u'http://pbs.twimg.com/media/CiN_9f8VAAIlRX7.jpg'}]}, u'retweeted': False, u'coordinates': None, u'source': u'<a href=\"http://twitter.com/download/android\" rel=\"nofollow\">Twitter for Android</a>', u'in_reply_to_screen_name': None, u'in_reply_to_user_id': None, u'retweet_count': 12, u'id_str': u'730574609683120128', u'favorited': False, u'retweeted_status': {u'contributors': None, u'truncated': False, u'text': u'When it comes to #Trump supporters, remember Mark Twain.  1st priority 2016 deny #Trump. https://t.co/8nMTLRhqgZ', u'is_quote_status': False, u'in_reply_to_status_id': None, u'id': 730568259758522368, u'favorite_count': 14, u'entities': {u'symbols': [], u'user_mentions': [], u'hashtags': [{u'indices': [17, 23], u'text': u'Trump'}, {u'indices': [81, 87], u'text': u'Trump'}], u'urls': [], u'media': [{u'expanded_url': u'http://twitter.com/JacloPac/status/730568259758522368/photo/1', u'display_url': u'pic.twitter.com/8nMTLRhqgZ', u'url': u'https://t.co/8nMTLRhqgZ', u'media_url_https': u'https://pbs.twimg.com/media/CiN_9f8VAAIlRX7.jpg', u'id_str': u'730568259087433730', u'sizes': {u'large': {u'h': 183, u'resize': u'fit', u'w': 207}, u'small': {u'h': 183, u'resize': u'fit', u'w': 207}, u'medium': {u'h': 183, u'resize': u'fit', u'w': 207}, u'thumb': {u'h': 150, u'resize': u'crop', u'w': 150}}, u'indices': [89, 112], u'type': u'photo', u'id': 730568259087433730, u'media_url': u'http://pbs.twimg.com/media/CiN_9f8VAAIlRX7.jpg'}]}, u'retweeted': False, u'coordinates': None, u'source': u'<a href=\"http://twitter.com\" rel=\"nofollow\">Twitter Web Client</a>', u'in_reply_to_screen_name': None, u'in_reply_to_user_id': None, u'retweet_count': 12, u'id_str': u'730568259758522368', u'favorited': False, u'user': {u'follow_request_sent': False, u'has_extended_profile': False, u'profile_use_background_image': True, u'default_profile_image': False, u'id': 3229506722, u'profile_background_image_url_https': u'https://abs.twimg.com/images/themes/theme1/bg.png', u'verified': False, u'profile_text_color': u'333333', u'profile_image_url_https': u'https://pbs.twimg.com/profile_images/604180947202760705/3OQ1RLlC_normal.jpg', u'profile_sidebar_fill_color': u'DDEEF6', u'entities': {u'url': {u'urls': [{u'url': u'http://t.co/jOhlHZgW3X', u'indices': [0, 22], u'expanded_url': u'http://www.jobsamericancanliveon.myevent.com/3/donate.htm', u'display_url': u'jobsamericancanliveon.myevent.com/3/donate.htm'}]}, u'description': {u'urls': []}}, u'followers_count': 13479, u'profile_sidebar_border_color': u'C0DEED', u'id_str': u'3229506722', u'profile_background_color': u'C0DEED', u'listed_count': 82, u'is_translation_enabled': False, u'utc_offset': -25200, u'statuses_count': 2255, u'description': u'Jobs Americans Can Live On! A Nonprofit, Leveraging Washington via votes 2 end #wageinequality #corpwelfare & provide #livablewage legislation.  Concordia', u'friends_count': 11244, u'location': u'Berkeley, California', u'profile_link_color': u'0084B4', u'profile_image_url': u'http://pbs.twimg.com/profile_images/604180947202760705/3OQ1RLlC_normal.jpg', u'following': False, u'geo_enabled': False, u'profile_banner_url': u'https://pbs.twimg.com/profile_banners/3229506722/1434159703', u'profile_background_image_url': u'http://abs.twimg.com/images/themes/theme1/bg.png', u'screen_name': u'JacloPac', u'lang': u'en', u'profile_background_tile': False, u'favourites_count': 1297, u'name': u'JacloPac', u'notifications': False, u'url': u'http://t.co/jOhlHZgW3X', u'created_at': u'Fri May 29 06:56:37 +0000 2015', u'contributors_enabled': False, u'time_zone': u'Pacific Time (US & Canada)', u'protected': False, u'default_profile': True, u'is_translator': False}, u'geo': None, u'in_reply_to_user_id_str': None, u'possibly_sensitive': False, u'lang': u'en', u'created_at': u'Thu May 12 01:20:21 +0000 2016', u'in_reply_to_status_id_str': None, u'place': None, u'metadata': {u'iso_language_code': u'en', u'result_type': u'recent'}}, u'user': {u'follow_request_sent': False, u'has_extended_profile': False, u'profile_use_background_image': True, u'default_profile_image': False, u'id': 2588141216, u'profile_background_image_url_https': u'https://abs.twimg.com/images/themes/theme1/bg.png', u'verified': False, u'profile_text_color': u'333333', u'profile_image_url_https': u'https://pbs.twimg.com/profile_images/489110435010842624/_3WS9tCV_normal.jpeg', u'profile_sidebar_fill_color': u'DDEEF6', u'entities': {u'description': {u'urls': []}}, u'followers_count': 842, u'profile_sidebar_border_color': u'C0DEED', u'id_str': u'2588141216', u'profile_background_color': u'C0DEED', u'listed_count': 30, u'is_translation_enabled': False, u'utc_offset': None, u'statuses_count': 15066, u'description': u'', u'friends_count': 1592, u'location': u'California, USA', u'profile_link_color': u'0084B4', u'profile_image_url': u'http://pbs.twimg.com/profile_images/489110435010842624/_3WS9tCV_normal.jpeg', u'following': False, u'geo_enabled': False, u'profile_banner_url': u'https://pbs.twimg.com/profile_banners/2588141216/1403727371', u'profile_background_image_url': u'http://abs.twimg.com/images/themes/theme1/bg.png', u'screen_name': u'Hys2pid', u'lang': u'en', u'profile_background_tile': False, u'favourites_count': 13942, u'name': u'Hys2pid', u'notifications': False, u'url': None, u'created_at': u'Wed Jun 25 20:15:26 +0000 2014', u'contributors_enabled': False, u'time_zone': None, u'protected': False, u'default_profile': True, u'is_translator': False}, u'geo': None, u'in_reply_to_user_id_str': None, u'possibly_sensitive': False, u'lang': u'en', u'created_at': u'Thu May 12 01:45:35 +0000 2016', u'in_reply_to_status_id_str': None, u'place': None, u'metadata': {u'iso_language_code': u'en', u'result_type': u'recent'}}, coordinates=None, entities={u'symbols': [], u'user_mentions': [{u'id': 3229506722, u'indices': [3, 12], u'id_str': u'3229506722', u'screen_name': u'JacloPac', u'name': u'JacloPac'}], u'hashtags': [{u'indices': [31, 37], u'text': u'Trump'}, {u'indices': [95, 101], u'text': u'Trump'}], u'urls': [], u'media': [{u'source_user_id': 3229506722, u'source_status_id_str': u'730568259758522368', u'expanded_url': u'http://twitter.com/JacloPac/status/730568259758522368/photo/1', u'display_url': u'pic.twitter.com/8nMTLRhqgZ', u'url': u'https://t.co/8nMTLRhqgZ', u'media_url_https': u'https://pbs.twimg.com/media/CiN_9f8VAAIlRX7.jpg', u'source_user_id_str': u'3229506722', u'source_status_id': 730568259758522368, u'id_str': u'730568259087433730', u'sizes': {u'large': {u'h': 183, u'resize': u'fit', u'w': 207}, u'small': {u'h': 183, u'resize': u'fit', u'w': 207}, u'medium': {u'h': 183, u'resize': u'fit', u'w': 207}, u'thumb': {u'h': 150, u'resize': u'crop', u'w': 150}}, u'indices': [103, 126], u'type': u'photo', u'id': 730568259087433730, u'media_url': u'http://pbs.twimg.com/media/CiN_9f8VAAIlRX7.jpg'}]}, in_reply_to_screen_name=None, id_str=u'730574609683120128', retweet_count=12, in_reply_to_user_id=None, favorited=False, retweeted_status=Status(contributors=None, truncated=False, text=u'When it comes to #Trump supporters, remember Mark Twain.  1st priority 2016 deny #Trump. https://t.co/8nMTLRhqgZ', is_quote_status=False, in_reply_to_status_id=None, id=730568259758522368, favorite_count=14, _api=<tweepy.api.API object at 0x10523f0d0>, author=User(follow_request_sent=False, has_extended_profile=False, profile_use_background_image=True, _json={u'follow_request_sent': False, u'has_extended_profile': False, u'profile_use_background_image': True, u'default_profile_image': False, u'id': 3229506722, u'profile_background_image_url_https': u'https://abs.twimg.com/images/themes/theme1/bg.png', u'verified': False, u'profile_text_color': u'333333', u'profile_image_url_https': u'https://pbs.twimg.com/profile_images/604180947202760705/3OQ1RLlC_normal.jpg', u'profile_sidebar_fill_color': u'DDEEF6', u'entities': {u'url': {u'urls': [{u'url': u'http://t.co/jOhlHZgW3X', u'indices': [0, 22], u'expanded_url': u'http://www.jobsamericancanliveon.myevent.com/3/donate.htm', u'display_url': u'jobsamericancanliveon.myevent.com/3/donate.htm'}]}, u'description': {u'urls': []}}, u'followers_count': 13479, u'profile_sidebar_border_color': u'C0DEED', u'id_str': u'3229506722', u'profile_background_color': u'C0DEED', u'listed_count': 82, u'is_translation_enabled': False, u'utc_offset': -25200, u'statuses_count': 2255, u'description': u'Jobs Americans Can Live On! A Nonprofit, Leveraging Washington via votes 2 end #wageinequality #corpwelfare & provide #livablewage legislation.  Concordia', u'friends_count': 11244, u'location': u'Berkeley, California', u'profile_link_color': u'0084B4', u'profile_image_url': u'http://pbs.twimg.com/profile_images/604180947202760705/3OQ1RLlC_normal.jpg', u'following': False, u'geo_enabled': False, u'profile_banner_url': u'https://pbs.twimg.com/profile_banners/3229506722/1434159703', u'profile_background_image_url': u'http://abs.twimg.com/images/themes/theme1/bg.png', u'screen_name': u'JacloPac', u'lang': u'en', u'profile_background_tile': False, u'favourites_count': 1297, u'name': u'JacloPac', u'notifications': False, u'url': u'http://t.co/jOhlHZgW3X', u'created_at': u'Fri May 29 06:56:37 +0000 2015', u'contributors_enabled': False, u'time_zone': u'Pacific Time (US & Canada)', u'protected': False, u'default_profile': True, u'is_translator': False}, time_zone=u'Pacific Time (US & Canada)', id=3229506722, _api=<tweepy.api.API object at 0x10523f0d0>, verified=False, profile_text_color=u'333333', profile_image_url_https=u'https://pbs.twimg.com/profile_images/604180947202760705/3OQ1RLlC_normal.jpg', profile_sidebar_fill_color=u'DDEEF6', is_translator=False, geo_enabled=False, entities={u'url': {u'urls': [{u'url': u'http://t.co/jOhlHZgW3X', u'indices': [0, 22], u'expanded_url': u'http://www.jobsamericancanliveon.myevent.com/3/donate.htm', u'display_url': u'jobsamericancanliveon.myevent.com/3/donate.htm'}]}, u'description': {u'urls': []}}, followers_count=13479, protected=False, id_str=u'3229506722', default_profile_image=False, listed_count=82, lang=u'en', utc_offset=-25200, statuses_count=2255, description=u'Jobs Americans Can Live On! A Nonprofit, Leveraging Washington via votes 2 end #wageinequality #corpwelfare & provide #livablewage legislation.  Concordia', friends_count=11244, profile_link_color=u'0084B4', profile_image_url=u'http://pbs.twimg.com/profile_images/604180947202760705/3OQ1RLlC_normal.jpg', notifications=False, profile_background_image_url_https=u'https://abs.twimg.com/images/themes/theme1/bg.png', profile_background_color=u'C0DEED', profile_banner_url=u'https://pbs.twimg.com/profile_banners/3229506722/1434159703', profile_background_image_url=u'http://abs.twimg.com/images/themes/theme1/bg.png', name=u'JacloPac', is_translation_enabled=False, profile_background_tile=False, favourites_count=1297, screen_name=u'JacloPac', url=u'http://t.co/jOhlHZgW3X', created_at=datetime.datetime(2015, 5, 29, 6, 56, 37), contributors_enabled=False, location=u'Berkeley, California', profile_sidebar_border_color=u'C0DEED', default_profile=True, following=False), _json={u'contributors': None, u'truncated': False, u'text': u'When it comes to #Trump supporters, remember Mark Twain.  1st priority 2016 deny #Trump. https://t.co/8nMTLRhqgZ', u'is_quote_status': False, u'in_reply_to_status_id': None, u'id': 730568259758522368, u'favorite_count': 14, u'entities': {u'symbols': [], u'user_mentions': [], u'hashtags': [{u'indices': [17, 23], u'text': u'Trump'}, {u'indices': [81, 87], u'text': u'Trump'}], u'urls': [], u'media': [{u'expanded_url': u'http://twitter.com/JacloPac/status/730568259758522368/photo/1', u'display_url': u'pic.twitter.com/8nMTLRhqgZ', u'url': u'https://t.co/8nMTLRhqgZ', u'media_url_https': u'https://pbs.twimg.com/media/CiN_9f8VAAIlRX7.jpg', u'id_str': u'730568259087433730', u'sizes': {u'large': {u'h': 183, u'resize': u'fit', u'w': 207}, u'small': {u'h': 183, u'resize': u'fit', u'w': 207}, u'medium': {u'h': 183, u'resize': u'fit', u'w': 207}, u'thumb': {u'h': 150, u'resize': u'crop', u'w': 150}}, u'indices': [89, 112], u'type': u'photo', u'id': 730568259087433730, u'media_url': u'http://pbs.twimg.com/media/CiN_9f8VAAIlRX7.jpg'}]}, u'retweeted': False, u'coordinates': None, u'source': u'<a href=\"http://twitter.com\" rel=\"nofollow\">Twitter Web Client</a>', u'in_reply_to_screen_name': None, u'in_reply_to_user_id': None, u'retweet_count': 12, u'id_str': u'730568259758522368', u'favorited': False, u'user': {u'follow_request_sent': False, u'has_extended_profile': False, u'profile_use_background_image': True, u'default_profile_image': False, u'id': 3229506722, u'profile_background_image_url_https': u'https://abs.twimg.com/images/themes/theme1/bg.png', u'verified': False, u'profile_text_color': u'333333', u'profile_image_url_https': u'https://pbs.twimg.com/profile_images/604180947202760705/3OQ1RLlC_normal.jpg', u'profile_sidebar_fill_color': u'DDEEF6', u'entities': {u'url': {u'urls': [{u'url': u'http://t.co/jOhlHZgW3X', u'indices': [0, 22], u'expanded_url': u'http://www.jobsamericancanliveon.myevent.com/3/donate.htm', u'display_url': u'jobsamericancanliveon.myevent.com/3/donate.htm'}]}, u'description': {u'urls': []}}, u'followers_count': 13479, u'profile_sidebar_border_color': u'C0DEED', u'id_str': u'3229506722', u'profile_background_color': u'C0DEED', u'listed_count': 82, u'is_translation_enabled': False, u'utc_offset': -25200, u'statuses_count': 2255, u'description': u'Jobs Americans Can Live On! A Nonprofit, Leveraging Washington via votes 2 end #wageinequality #corpwelfare & provide #livablewage legislation.  Concordia', u'friends_count': 11244, u'location': u'Berkeley, California', u'profile_link_color': u'0084B4', u'profile_image_url': u'http://pbs.twimg.com/profile_images/604180947202760705/3OQ1RLlC_normal.jpg', u'following': False, u'geo_enabled': False, u'profile_banner_url': u'https://pbs.twimg.com/profile_banners/3229506722/1434159703', u'profile_background_image_url': u'http://abs.twimg.com/images/themes/theme1/bg.png', u'screen_name': u'JacloPac', u'lang': u'en', u'profile_background_tile': False, u'favourites_count': 1297, u'name': u'JacloPac', u'notifications': False, u'url': u'http://t.co/jOhlHZgW3X', u'created_at': u'Fri May 29 06:56:37 +0000 2015', u'contributors_enabled': False, u'time_zone': u'Pacific Time (US & Canada)', u'protected': False, u'default_profile': True, u'is_translator': False}, u'geo': None, u'in_reply_to_user_id_str': None, u'possibly_sensitive': False, u'lang': u'en', u'created_at': u'Thu May 12 01:20:21 +0000 2016', u'in_reply_to_status_id_str': None, u'place': None, u'metadata': {u'iso_language_code': u'en', u'result_type': u'recent'}}, coordinates=None, entities={u'symbols': [], u'user_mentions': [], u'hashtags': [{u'indices': [17, 23], u'text': u'Trump'}, {u'indices': [81, 87], u'text': u'Trump'}], u'urls': [], u'media': [{u'expanded_url': u'http://twitter.com/JacloPac/status/730568259758522368/photo/1', u'display_url': u'pic.twitter.com/8nMTLRhqgZ', u'url': u'https://t.co/8nMTLRhqgZ', u'media_url_https': u'https://pbs.twimg.com/media/CiN_9f8VAAIlRX7.jpg', u'id_str': u'730568259087433730', u'sizes': {u'large': {u'h': 183, u'resize': u'fit', u'w': 207}, u'small': {u'h': 183, u'resize': u'fit', u'w': 207}, u'medium': {u'h': 183, u'resize': u'fit', u'w': 207}, u'thumb': {u'h': 150, u'resize': u'crop', u'w': 150}}, u'indices': [89, 112], u'type': u'photo', u'id': 730568259087433730, u'media_url': u'http://pbs.twimg.com/media/CiN_9f8VAAIlRX7.jpg'}]}, in_reply_to_screen_name=None, id_str=u'730568259758522368', retweet_count=12, in_reply_to_user_id=None, favorited=False, source_url=u'http://twitter.com', user=User(follow_request_sent=False, has_extended_profile=False, profile_use_background_image=True, _json={u'follow_request_sent': False, u'has_extended_profile': False, u'profile_use_background_image': True, u'default_profile_image': False, u'id': 3229506722, u'profile_background_image_url_https': u'https://abs.twimg.com/images/themes/theme1/bg.png', u'verified': False, u'profile_text_color': u'333333', u'profile_image_url_https': u'https://pbs.twimg.com/profile_images/604180947202760705/3OQ1RLlC_normal.jpg', u'profile_sidebar_fill_color': u'DDEEF6', u'entities': {u'url': {u'urls': [{u'url': u'http://t.co/jOhlHZgW3X', u'indices': [0, 22], u'expanded_url': u'http://www.jobsamericancanliveon.myevent.com/3/donate.htm', u'display_url': u'jobsamericancanliveon.myevent.com/3/donate.htm'}]}, u'description': {u'urls': []}}, u'followers_count': 13479, u'profile_sidebar_border_color': u'C0DEED', u'id_str': u'3229506722', u'profile_background_color': u'C0DEED', u'listed_count': 82, u'is_translation_enabled': False, u'utc_offset': -25200, u'statuses_count': 2255, u'description': u'Jobs Americans Can Live On! A Nonprofit, Leveraging Washington via votes 2 end #wageinequality #corpwelfare & provide #livablewage legislation.  Concordia', u'friends_count': 11244, u'location': u'Berkeley, California', u'profile_link_color': u'0084B4', u'profile_image_url': u'http://pbs.twimg.com/profile_images/604180947202760705/3OQ1RLlC_normal.jpg', u'following': False, u'geo_enabled': False, u'profile_banner_url': u'https://pbs.twimg.com/profile_banners/3229506722/1434159703', u'profile_background_image_url': u'http://abs.twimg.com/images/themes/theme1/bg.png', u'screen_name': u'JacloPac', u'lang': u'en', u'profile_background_tile': False, u'favourites_count': 1297, u'name': u'JacloPac', u'notifications': False, u'url': u'http://t.co/jOhlHZgW3X', u'created_at': u'Fri May 29 06:56:37 +0000 2015', u'contributors_enabled': False, u'time_zone': u'Pacific Time (US & Canada)', u'protected': False, u'default_profile': True, u'is_translator': False}, time_zone=u'Pacific Time (US & Canada)', id=3229506722, _api=<tweepy.api.API object at 0x10523f0d0>, verified=False, profile_text_color=u'333333', profile_image_url_https=u'https://pbs.twimg.com/profile_images/604180947202760705/3OQ1RLlC_normal.jpg', profile_sidebar_fill_color=u'DDEEF6', is_translator=False, geo_enabled=False, entities={u'url': {u'urls': [{u'url': u'http://t.co/jOhlHZgW3X', u'indices': [0, 22], u'expanded_url': u'http://www.jobsamericancanliveon.myevent.com/3/donate.htm', u'display_url': u'jobsamericancanliveon.myevent.com/3/donate.htm'}]}, u'description': {u'urls': []}}, followers_count=13479, protected=False, id_str=u'3229506722', default_profile_image=False, listed_count=82, lang=u'en', utc_offset=-25200, statuses_count=2255, description=u'Jobs Americans Can Live On! A Nonprofit, Leveraging Washington via votes 2 end #wageinequality #corpwelfare & provide #livablewage legislation.  Concordia', friends_count=11244, profile_link_color=u'0084B4', profile_image_url=u'http://pbs.twimg.com/profile_images/604180947202760705/3OQ1RLlC_normal.jpg', notifications=False, profile_background_image_url_https=u'https://abs.twimg.com/images/themes/theme1/bg.png', profile_background_color=u'C0DEED', profile_banner_url=u'https://pbs.twimg.com/profile_banners/3229506722/1434159703', profile_background_image_url=u'http://abs.twimg.com/images/themes/theme1/bg.png', name=u'JacloPac', is_translation_enabled=False, profile_background_tile=False, favourites_count=1297, screen_name=u'JacloPac', url=u'http://t.co/jOhlHZgW3X', created_at=datetime.datetime(2015, 5, 29, 6, 56, 37), contributors_enabled=False, location=u'Berkeley, California', profile_sidebar_border_color=u'C0DEED', default_profile=True, following=False), geo=None, in_reply_to_user_id_str=None, possibly_sensitive=False, lang=u'en', created_at=datetime.datetime(2016, 5, 12, 1, 20, 21), in_reply_to_status_id_str=None, place=None, source=u'Twitter Web Client', retweeted=False, metadata={u'iso_language_code': u'en', u'result_type': u'recent'}), source_url=u'http://twitter.com/download/android', user=User(follow_request_sent=False, has_extended_profile=False, profile_use_background_image=True, _json={u'follow_request_sent': False, u'has_extended_profile': False, u'profile_use_background_image': True, u'default_profile_image': False, u'id': 2588141216, u'profile_background_image_url_https': u'https://abs.twimg.com/images/themes/theme1/bg.png', u'verified': False, u'profile_text_color': u'333333', u'profile_image_url_https': u'https://pbs.twimg.com/profile_images/489110435010842624/_3WS9tCV_normal.jpeg', u'profile_sidebar_fill_color': u'DDEEF6', u'entities': {u'description': {u'urls': []}}, u'followers_count': 842, u'profile_sidebar_border_color': u'C0DEED', u'id_str': u'2588141216', u'profile_background_color': u'C0DEED', u'listed_count': 30, u'is_translation_enabled': False, u'utc_offset': None, u'statuses_count': 15066, u'description': u'', u'friends_count': 1592, u'location': u'California, USA', u'profile_link_color': u'0084B4', u'profile_image_url': u'http://pbs.twimg.com/profile_images/489110435010842624/_3WS9tCV_normal.jpeg', u'following': False, u'geo_enabled': False, u'profile_banner_url': u'https://pbs.twimg.com/profile_banners/2588141216/1403727371', u'profile_background_image_url': u'http://abs.twimg.com/images/themes/theme1/bg.png', u'screen_name': u'Hys2pid', u'lang': u'en', u'profile_background_tile': False, u'favourites_count': 13942, u'name': u'Hys2pid', u'notifications': False, u'url': None, u'created_at': u'Wed Jun 25 20:15:26 +0000 2014', u'contributors_enabled': False, u'time_zone': None, u'protected': False, u'default_profile': True, u'is_translator': False}, time_zone=None, id=2588141216, _api=<tweepy.api.API object at 0x10523f0d0>, verified=False, profile_text_color=u'333333', profile_image_url_https=u'https://pbs.twimg.com/profile_images/489110435010842624/_3WS9tCV_normal.jpeg', profile_sidebar_fill_color=u'DDEEF6', is_translator=False, geo_enabled=False, entities={u'description': {u'urls': []}}, followers_count=842, protected=False, id_str=u'2588141216', default_profile_image=False, listed_count=30, lang=u'en', utc_offset=None, statuses_count=15066, description=u'', friends_count=1592, profile_link_color=u'0084B4', profile_image_url=u'http://pbs.twimg.com/profile_images/489110435010842624/_3WS9tCV_normal.jpeg', notifications=False, profile_background_image_url_https=u'https://abs.twimg.com/images/themes/theme1/bg.png', profile_background_color=u'C0DEED', profile_banner_url=u'https://pbs.twimg.com/profile_banners/2588141216/1403727371', profile_background_image_url=u'http://abs.twimg.com/images/themes/theme1/bg.png', name=u'Hys2pid', is_translation_enabled=False, profile_background_tile=False, favourites_count=13942, screen_name=u'Hys2pid', url=None, created_at=datetime.datetime(2014, 6, 25, 20, 15, 26), contributors_enabled=False, location=u'California, USA', profile_sidebar_border_color=u'C0DEED', default_profile=True, following=False), geo=None, in_reply_to_user_id_str=None, possibly_sensitive=False, lang=u'en', created_at=datetime.datetime(2016, 5, 12, 1, 45, 35), in_reply_to_status_id_str=None, place=None, source=u'Twitter for Android', retweeted=False, metadata={u'iso_language_code': u'en', u'result_type': u'recent'})"
      ]
     },
     "execution_count": 18,
     "metadata": {},
     "output_type": "execute_result"
    }
   ],
   "source": [
    "the_donald_tweets[0]"
   ]
  },
  {
   "cell_type": "code",
   "execution_count": 19,
   "metadata": {
    "collapsed": false
   },
   "outputs": [
    {
     "name": "stdout",
     "output_type": "stream",
     "text": [
      "['__class__', '__delattr__', '__dict__', '__doc__', '__eq__', '__format__', '__getattribute__', '__getstate__', '__hash__', '__init__', '__module__', '__ne__', '__new__', '__reduce__', '__reduce_ex__', '__repr__', '__setattr__', '__sizeof__', '__str__', '__subclasshook__', '__weakref__', '_api', '_json', 'author', 'contributors', 'coordinates', 'created_at', 'destroy', 'entities', 'favorite', 'favorite_count', 'favorited', 'geo', 'id', 'id_str', 'in_reply_to_screen_name', 'in_reply_to_status_id', 'in_reply_to_status_id_str', 'in_reply_to_user_id', 'in_reply_to_user_id_str', 'is_quote_status', 'lang', 'metadata', 'parse', 'parse_list', 'place', 'possibly_sensitive', 'retweet', 'retweet_count', 'retweeted', 'retweeted_status', 'retweets', 'source', 'source_url', 'text', 'truncated', 'user']\n"
     ]
    }
   ],
   "source": [
    "# wrappers come with built in python attributes and methods!\n",
    "print dir(the_donald_tweets[0])"
   ]
  },
  {
   "cell_type": "code",
   "execution_count": 20,
   "metadata": {
    "collapsed": false
   },
   "outputs": [
    {
     "name": "stdout",
     "output_type": "stream",
     "text": [
      "2016-05-12 01:45:35\n",
      "RT @JacloPac: When it comes to #Trump supporters, remember Mark Twain.  1st priority 2016 deny #Trump. https://t.co/8nMTLRhqgZ\n",
      "0\n",
      "False\n",
      "en\n",
      "None\n",
      "12\n",
      "False\n",
      "False\n",
      "None\n"
     ]
    }
   ],
   "source": [
    "print the_donald_tweets[0].created_at\n",
    "print the_donald_tweets[0].text\n",
    "print the_donald_tweets[0].favorite_count\n",
    "print the_donald_tweets[0].favorited\n",
    "print the_donald_tweets[0].lang\n",
    "print the_donald_tweets[0].geo\n",
    "print the_donald_tweets[0].retweet_count\n",
    "print the_donald_tweets[0].retweeted\n",
    "print the_donald_tweets[0].possibly_sensitive\n",
    "print the_donald_tweets[0].coordinates"
   ]
  },
  {
   "cell_type": "code",
   "execution_count": 21,
   "metadata": {
    "collapsed": false
   },
   "outputs": [],
   "source": [
    "def parse_status_objects(tweet_list):\n",
    "    modified_tweets = list()\n",
    "    for x in tweet_list:\n",
    "        modified_tweets.append( [\n",
    "                    x.created_at,\n",
    "                    x.text,\n",
    "                    x.favorite_count,\n",
    "                    x.favorited,\n",
    "                    x.lang,\n",
    "                    x.geo,\n",
    "                    x.retweet_count,\n",
    "                    x.retweeted,\n",
    "                    x.coordinates\n",
    "                ])\n",
    "    return modified_tweets\n",
    "        \n",
    "hilary_tweets = parse_status_objects(hilary_tweets)\n",
    "the_donald_tweets = parse_status_objects(the_donald_tweets)\n",
    "bernie_tweets = parse_status_objects(bernie_tweets)"
   ]
  },
  {
   "cell_type": "code",
   "execution_count": 22,
   "metadata": {
    "collapsed": false,
    "scrolled": true
   },
   "outputs": [
    {
     "name": "stdout",
     "output_type": "stream",
     "text": [
      "[datetime.datetime(2016, 5, 12, 1, 43, 1), u'RT @BobSmith4152: Just sayin...#FeelTheBern https://t.co/cbfYwM8iGl', 0, False, u'en', None, 1, False, None]\n",
      "[datetime.datetime(2016, 5, 12, 1, 45, 35), u'RT @JacloPac: When it comes to #Trump supporters, remember Mark Twain.  1st priority 2016 deny #Trump. https://t.co/8nMTLRhqgZ', 0, False, u'en', None, 12, False, None]\n",
      "[datetime.datetime(2016, 5, 12, 1, 44, 6), u'RT @HoeSmacka4HRC16: @handley_dix @ChelseaClinton nigga dis an Obama phone Nigga. @AlamedaCounty gave this 2 yo nigga when they ran out of\\u2026', 0, False, u'en', None, 1, False, None]\n"
     ]
    }
   ],
   "source": [
    "print bernie_tweets[0]\n",
    "print the_donald_tweets[0]\n",
    "print hilary_tweets[0]"
   ]
  },
  {
   "cell_type": "code",
   "execution_count": null,
   "metadata": {
    "collapsed": true
   },
   "outputs": [],
   "source": [
    "# 2 Create a dataframe that combines all of the tweets from each candidate\n",
    "# To do so, you will need to concat the data frames\n",
    "# so each row is a tweet and your columns should be \n",
    "# date, text, favorite_count,favorited, language, geocode, rwtweet count, retweeted, coordinates"
   ]
  },
  {
   "cell_type": "code",
   "execution_count": 23,
   "metadata": {
    "collapsed": true
   },
   "outputs": [],
   "source": [
    "import pandas as pd"
   ]
  },
  {
   "cell_type": "code",
   "execution_count": 24,
   "metadata": {
    "collapsed": false,
    "scrolled": true
   },
   "outputs": [],
   "source": [
    "bernie = pd.DataFrame(bernie_tweets)\n",
    "donald = pd.DataFrame(the_donald_tweets)\n",
    "hillary = pd.DataFrame(hilary_tweets)"
   ]
  },
  {
   "cell_type": "code",
   "execution_count": 25,
   "metadata": {
    "collapsed": false
   },
   "outputs": [],
   "source": [
    "bernie.columns = ['date', 'text', 'favorite_count','favorited', 'language', 'geocode', 'retweet count', 'retweeted', 'coordinates']\n",
    "donald.columns = ['date', 'text', 'favorite_count','favorited', 'language', 'geocode', 'retweet count', 'retweeted', 'coordinates']\n",
    "hillary.columns = ['date', 'text', 'favorite_count','favorited', 'language', 'geocode', 'retweet count', 'retweeted', 'coordinates']"
   ]
  },
  {
   "cell_type": "code",
   "execution_count": 26,
   "metadata": {
    "collapsed": true
   },
   "outputs": [],
   "source": [
    "bernie['democrat'] = 1\n",
    "donald['democrat'] = 0\n",
    "hillary['democrat'] = 1"
   ]
  },
  {
   "cell_type": "code",
   "execution_count": 29,
   "metadata": {
    "collapsed": false
   },
   "outputs": [
    {
     "data": {
      "text/html": [
       "<div>\n",
       "<table border=\"1\" class=\"dataframe\">\n",
       "  <thead>\n",
       "    <tr style=\"text-align: right;\">\n",
       "      <th></th>\n",
       "      <th>date</th>\n",
       "      <th>text</th>\n",
       "      <th>favorite_count</th>\n",
       "      <th>favorited</th>\n",
       "      <th>language</th>\n",
       "      <th>geocode</th>\n",
       "      <th>retweet count</th>\n",
       "      <th>retweeted</th>\n",
       "      <th>coordinates</th>\n",
       "      <th>democrat</th>\n",
       "    </tr>\n",
       "  </thead>\n",
       "  <tbody>\n",
       "    <tr>\n",
       "      <th>0</th>\n",
       "      <td>2016-05-12 01:44:06</td>\n",
       "      <td>RT @HoeSmacka4HRC16: @handley_dix @ChelseaClin...</td>\n",
       "      <td>0</td>\n",
       "      <td>False</td>\n",
       "      <td>en</td>\n",
       "      <td>None</td>\n",
       "      <td>1</td>\n",
       "      <td>False</td>\n",
       "      <td>None</td>\n",
       "      <td>1</td>\n",
       "    </tr>\n",
       "    <tr>\n",
       "      <th>1</th>\n",
       "      <td>2016-05-12 01:43:52</td>\n",
       "      <td>Phone banking in support of @HillaryClinton #H...</td>\n",
       "      <td>0</td>\n",
       "      <td>False</td>\n",
       "      <td>en</td>\n",
       "      <td>None</td>\n",
       "      <td>0</td>\n",
       "      <td>False</td>\n",
       "      <td>None</td>\n",
       "      <td>1</td>\n",
       "    </tr>\n",
       "    <tr>\n",
       "      <th>2</th>\n",
       "      <td>2016-05-12 01:39:58</td>\n",
       "      <td>@handley_dix @ChelseaClinton nigga dis an Obam...</td>\n",
       "      <td>1</td>\n",
       "      <td>False</td>\n",
       "      <td>en</td>\n",
       "      <td>None</td>\n",
       "      <td>1</td>\n",
       "      <td>False</td>\n",
       "      <td>None</td>\n",
       "      <td>1</td>\n",
       "    </tr>\n",
       "    <tr>\n",
       "      <th>3</th>\n",
       "      <td>2016-05-12 01:03:55</td>\n",
       "      <td>@handley_dix @ChelseaClinton nigga is U off yo...</td>\n",
       "      <td>0</td>\n",
       "      <td>False</td>\n",
       "      <td>en</td>\n",
       "      <td>None</td>\n",
       "      <td>0</td>\n",
       "      <td>False</td>\n",
       "      <td>None</td>\n",
       "      <td>1</td>\n",
       "    </tr>\n",
       "    <tr>\n",
       "      <th>4</th>\n",
       "      <td>2016-05-12 00:05:38</td>\n",
       "      <td>A #Hillary2016 candidacy sadly means a #Trump2...</td>\n",
       "      <td>0</td>\n",
       "      <td>False</td>\n",
       "      <td>en</td>\n",
       "      <td>None</td>\n",
       "      <td>0</td>\n",
       "      <td>False</td>\n",
       "      <td>None</td>\n",
       "      <td>1</td>\n",
       "    </tr>\n",
       "  </tbody>\n",
       "</table>\n",
       "</div>"
      ],
      "text/plain": [
       "                 date                                               text  \\\n",
       "0 2016-05-12 01:44:06  RT @HoeSmacka4HRC16: @handley_dix @ChelseaClin...   \n",
       "1 2016-05-12 01:43:52  Phone banking in support of @HillaryClinton #H...   \n",
       "2 2016-05-12 01:39:58  @handley_dix @ChelseaClinton nigga dis an Obam...   \n",
       "3 2016-05-12 01:03:55  @handley_dix @ChelseaClinton nigga is U off yo...   \n",
       "4 2016-05-12 00:05:38  A #Hillary2016 candidacy sadly means a #Trump2...   \n",
       "\n",
       "   favorite_count favorited language geocode  retweet count retweeted  \\\n",
       "0               0     False       en    None              1     False   \n",
       "1               0     False       en    None              0     False   \n",
       "2               1     False       en    None              1     False   \n",
       "3               0     False       en    None              0     False   \n",
       "4               0     False       en    None              0     False   \n",
       "\n",
       "  coordinates  democrat  \n",
       "0        None         1  \n",
       "1        None         1  \n",
       "2        None         1  \n",
       "3        None         1  \n",
       "4        None         1  "
      ]
     },
     "execution_count": 29,
     "metadata": {},
     "output_type": "execute_result"
    }
   ],
   "source": [
    "hillary.head()"
   ]
  },
  {
   "cell_type": "code",
   "execution_count": 30,
   "metadata": {
    "collapsed": true
   },
   "outputs": [],
   "source": [
    "together = [bernie, donald, hillary]\n",
    "all_tweets = pd.concat(together)"
   ]
  },
  {
   "cell_type": "code",
   "execution_count": 31,
   "metadata": {
    "collapsed": false
   },
   "outputs": [
    {
     "data": {
      "text/html": [
       "<div>\n",
       "<table border=\"1\" class=\"dataframe\">\n",
       "  <thead>\n",
       "    <tr style=\"text-align: right;\">\n",
       "      <th></th>\n",
       "      <th>date</th>\n",
       "      <th>text</th>\n",
       "      <th>favorite_count</th>\n",
       "      <th>favorited</th>\n",
       "      <th>language</th>\n",
       "      <th>geocode</th>\n",
       "      <th>retweet count</th>\n",
       "      <th>retweeted</th>\n",
       "      <th>coordinates</th>\n",
       "      <th>democrat</th>\n",
       "    </tr>\n",
       "  </thead>\n",
       "  <tbody>\n",
       "    <tr>\n",
       "      <th>0</th>\n",
       "      <td>2016-05-12 01:43:01</td>\n",
       "      <td>RT @BobSmith4152: Just sayin...#FeelTheBern ht...</td>\n",
       "      <td>0</td>\n",
       "      <td>False</td>\n",
       "      <td>en</td>\n",
       "      <td>None</td>\n",
       "      <td>1</td>\n",
       "      <td>False</td>\n",
       "      <td>None</td>\n",
       "      <td>1</td>\n",
       "    </tr>\n",
       "    <tr>\n",
       "      <th>1</th>\n",
       "      <td>2016-05-12 01:41:25</td>\n",
       "      <td>RT @BayArea4Bernie: Goodnight y'all.\\n#FeelThe...</td>\n",
       "      <td>0</td>\n",
       "      <td>False</td>\n",
       "      <td>en</td>\n",
       "      <td>None</td>\n",
       "      <td>126</td>\n",
       "      <td>False</td>\n",
       "      <td>None</td>\n",
       "      <td>1</td>\n",
       "    </tr>\n",
       "    <tr>\n",
       "      <th>2</th>\n",
       "      <td>2016-05-12 01:35:06</td>\n",
       "      <td>So who's @CorrectRecord really working for?\\n#...</td>\n",
       "      <td>0</td>\n",
       "      <td>False</td>\n",
       "      <td>en</td>\n",
       "      <td>None</td>\n",
       "      <td>0</td>\n",
       "      <td>False</td>\n",
       "      <td>None</td>\n",
       "      <td>1</td>\n",
       "    </tr>\n",
       "    <tr>\n",
       "      <th>3</th>\n",
       "      <td>2016-05-12 01:34:01</td>\n",
       "      <td>Just sayin...#FeelTheBern https://t.co/cbfYwM8iGl</td>\n",
       "      <td>1</td>\n",
       "      <td>False</td>\n",
       "      <td>en</td>\n",
       "      <td>None</td>\n",
       "      <td>1</td>\n",
       "      <td>False</td>\n",
       "      <td>None</td>\n",
       "      <td>1</td>\n",
       "    </tr>\n",
       "    <tr>\n",
       "      <th>4</th>\n",
       "      <td>2016-05-12 01:32:26</td>\n",
       "      <td>Our odds are STILL better with Bernie\\n#FeelTh...</td>\n",
       "      <td>0</td>\n",
       "      <td>False</td>\n",
       "      <td>en</td>\n",
       "      <td>None</td>\n",
       "      <td>0</td>\n",
       "      <td>False</td>\n",
       "      <td>None</td>\n",
       "      <td>1</td>\n",
       "    </tr>\n",
       "  </tbody>\n",
       "</table>\n",
       "</div>"
      ],
      "text/plain": [
       "                 date                                               text  \\\n",
       "0 2016-05-12 01:43:01  RT @BobSmith4152: Just sayin...#FeelTheBern ht...   \n",
       "1 2016-05-12 01:41:25  RT @BayArea4Bernie: Goodnight y'all.\\n#FeelThe...   \n",
       "2 2016-05-12 01:35:06  So who's @CorrectRecord really working for?\\n#...   \n",
       "3 2016-05-12 01:34:01  Just sayin...#FeelTheBern https://t.co/cbfYwM8iGl   \n",
       "4 2016-05-12 01:32:26  Our odds are STILL better with Bernie\\n#FeelTh...   \n",
       "\n",
       "   favorite_count favorited language geocode  retweet count retweeted  \\\n",
       "0               0     False       en    None              1     False   \n",
       "1               0     False       en    None            126     False   \n",
       "2               0     False       en    None              0     False   \n",
       "3               1     False       en    None              1     False   \n",
       "4               0     False       en    None              0     False   \n",
       "\n",
       "  coordinates  democrat  \n",
       "0        None         1  \n",
       "1        None         1  \n",
       "2        None         1  \n",
       "3        None         1  \n",
       "4        None         1  "
      ]
     },
     "execution_count": 31,
     "metadata": {},
     "output_type": "execute_result"
    }
   ],
   "source": [
    "all_tweets.head()"
   ]
  },
  {
   "cell_type": "code",
   "execution_count": 32,
   "metadata": {
    "collapsed": true
   },
   "outputs": [],
   "source": [
    "# 3 Create a function to take in a string and output the textblob sentiment of that string\n",
    "from textblob import TextBlob, Word"
   ]
  },
  {
   "cell_type": "code",
   "execution_count": 33,
   "metadata": {
    "collapsed": false
   },
   "outputs": [],
   "source": [
    "def tweet_sentiment(text):\n",
    "    return TextBlob(text).sentiment.polarity"
   ]
  },
  {
   "cell_type": "code",
   "execution_count": 34,
   "metadata": {
    "collapsed": false
   },
   "outputs": [],
   "source": [
    "all_tweets['sentiment'] = all_tweets.text.apply(tweet_sentiment)"
   ]
  },
  {
   "cell_type": "code",
   "execution_count": 35,
   "metadata": {
    "collapsed": false
   },
   "outputs": [
    {
     "data": {
      "text/html": [
       "<div>\n",
       "<table border=\"1\" class=\"dataframe\">\n",
       "  <thead>\n",
       "    <tr style=\"text-align: right;\">\n",
       "      <th></th>\n",
       "      <th>date</th>\n",
       "      <th>text</th>\n",
       "      <th>favorite_count</th>\n",
       "      <th>favorited</th>\n",
       "      <th>language</th>\n",
       "      <th>geocode</th>\n",
       "      <th>retweet count</th>\n",
       "      <th>retweeted</th>\n",
       "      <th>coordinates</th>\n",
       "      <th>democrat</th>\n",
       "      <th>sentiment</th>\n",
       "    </tr>\n",
       "  </thead>\n",
       "  <tbody>\n",
       "    <tr>\n",
       "      <th>0</th>\n",
       "      <td>2016-05-12 01:43:01</td>\n",
       "      <td>RT @BobSmith4152: Just sayin...#FeelTheBern ht...</td>\n",
       "      <td>0</td>\n",
       "      <td>False</td>\n",
       "      <td>en</td>\n",
       "      <td>None</td>\n",
       "      <td>1</td>\n",
       "      <td>False</td>\n",
       "      <td>None</td>\n",
       "      <td>1</td>\n",
       "      <td>0.0</td>\n",
       "    </tr>\n",
       "    <tr>\n",
       "      <th>1</th>\n",
       "      <td>2016-05-12 01:41:25</td>\n",
       "      <td>RT @BayArea4Bernie: Goodnight y'all.\\n#FeelThe...</td>\n",
       "      <td>0</td>\n",
       "      <td>False</td>\n",
       "      <td>en</td>\n",
       "      <td>None</td>\n",
       "      <td>126</td>\n",
       "      <td>False</td>\n",
       "      <td>None</td>\n",
       "      <td>1</td>\n",
       "      <td>0.0</td>\n",
       "    </tr>\n",
       "    <tr>\n",
       "      <th>2</th>\n",
       "      <td>2016-05-12 01:35:06</td>\n",
       "      <td>So who's @CorrectRecord really working for?\\n#...</td>\n",
       "      <td>0</td>\n",
       "      <td>False</td>\n",
       "      <td>en</td>\n",
       "      <td>None</td>\n",
       "      <td>0</td>\n",
       "      <td>False</td>\n",
       "      <td>None</td>\n",
       "      <td>1</td>\n",
       "      <td>0.2</td>\n",
       "    </tr>\n",
       "    <tr>\n",
       "      <th>3</th>\n",
       "      <td>2016-05-12 01:34:01</td>\n",
       "      <td>Just sayin...#FeelTheBern https://t.co/cbfYwM8iGl</td>\n",
       "      <td>1</td>\n",
       "      <td>False</td>\n",
       "      <td>en</td>\n",
       "      <td>None</td>\n",
       "      <td>1</td>\n",
       "      <td>False</td>\n",
       "      <td>None</td>\n",
       "      <td>1</td>\n",
       "      <td>0.0</td>\n",
       "    </tr>\n",
       "    <tr>\n",
       "      <th>4</th>\n",
       "      <td>2016-05-12 01:32:26</td>\n",
       "      <td>Our odds are STILL better with Bernie\\n#FeelTh...</td>\n",
       "      <td>0</td>\n",
       "      <td>False</td>\n",
       "      <td>en</td>\n",
       "      <td>None</td>\n",
       "      <td>0</td>\n",
       "      <td>False</td>\n",
       "      <td>None</td>\n",
       "      <td>1</td>\n",
       "      <td>0.5</td>\n",
       "    </tr>\n",
       "  </tbody>\n",
       "</table>\n",
       "</div>"
      ],
      "text/plain": [
       "                 date                                               text  \\\n",
       "0 2016-05-12 01:43:01  RT @BobSmith4152: Just sayin...#FeelTheBern ht...   \n",
       "1 2016-05-12 01:41:25  RT @BayArea4Bernie: Goodnight y'all.\\n#FeelThe...   \n",
       "2 2016-05-12 01:35:06  So who's @CorrectRecord really working for?\\n#...   \n",
       "3 2016-05-12 01:34:01  Just sayin...#FeelTheBern https://t.co/cbfYwM8iGl   \n",
       "4 2016-05-12 01:32:26  Our odds are STILL better with Bernie\\n#FeelTh...   \n",
       "\n",
       "   favorite_count favorited language geocode  retweet count retweeted  \\\n",
       "0               0     False       en    None              1     False   \n",
       "1               0     False       en    None            126     False   \n",
       "2               0     False       en    None              0     False   \n",
       "3               1     False       en    None              1     False   \n",
       "4               0     False       en    None              0     False   \n",
       "\n",
       "  coordinates  democrat  sentiment  \n",
       "0        None         1        0.0  \n",
       "1        None         1        0.0  \n",
       "2        None         1        0.2  \n",
       "3        None         1        0.0  \n",
       "4        None         1        0.5  "
      ]
     },
     "execution_count": 35,
     "metadata": {},
     "output_type": "execute_result"
    }
   ],
   "source": [
    "all_tweets.head()"
   ]
  },
  {
   "cell_type": "code",
   "execution_count": null,
   "metadata": {
    "collapsed": true
   },
   "outputs": [],
   "source": [
    "# 4 Add a column to your data frame called 'sentiment' which holds the sentiment of that tweet (hint: use the function from #3)\n",
    "#see above"
   ]
  },
  {
   "cell_type": "code",
   "execution_count": 36,
   "metadata": {
    "collapsed": false
   },
   "outputs": [
    {
     "data": {
      "text/html": [
       "<div>\n",
       "<table border=\"1\" class=\"dataframe\">\n",
       "  <thead>\n",
       "    <tr style=\"text-align: right;\">\n",
       "      <th></th>\n",
       "      <th>date</th>\n",
       "      <th>text</th>\n",
       "      <th>favorite_count</th>\n",
       "      <th>favorited</th>\n",
       "      <th>language</th>\n",
       "      <th>geocode</th>\n",
       "      <th>retweet count</th>\n",
       "      <th>retweeted</th>\n",
       "      <th>coordinates</th>\n",
       "      <th>democrat</th>\n",
       "      <th>sentiment</th>\n",
       "      <th>length</th>\n",
       "    </tr>\n",
       "  </thead>\n",
       "  <tbody>\n",
       "    <tr>\n",
       "      <th>0</th>\n",
       "      <td>2016-05-12 01:43:01</td>\n",
       "      <td>RT @BobSmith4152: Just sayin...#FeelTheBern ht...</td>\n",
       "      <td>0</td>\n",
       "      <td>False</td>\n",
       "      <td>en</td>\n",
       "      <td>None</td>\n",
       "      <td>1</td>\n",
       "      <td>False</td>\n",
       "      <td>None</td>\n",
       "      <td>1</td>\n",
       "      <td>0.0</td>\n",
       "      <td>67</td>\n",
       "    </tr>\n",
       "    <tr>\n",
       "      <th>1</th>\n",
       "      <td>2016-05-12 01:41:25</td>\n",
       "      <td>RT @BayArea4Bernie: Goodnight y'all.\\n#FeelThe...</td>\n",
       "      <td>0</td>\n",
       "      <td>False</td>\n",
       "      <td>en</td>\n",
       "      <td>None</td>\n",
       "      <td>126</td>\n",
       "      <td>False</td>\n",
       "      <td>None</td>\n",
       "      <td>1</td>\n",
       "      <td>0.0</td>\n",
       "      <td>107</td>\n",
       "    </tr>\n",
       "    <tr>\n",
       "      <th>2</th>\n",
       "      <td>2016-05-12 01:35:06</td>\n",
       "      <td>So who's @CorrectRecord really working for?\\n#...</td>\n",
       "      <td>0</td>\n",
       "      <td>False</td>\n",
       "      <td>en</td>\n",
       "      <td>None</td>\n",
       "      <td>0</td>\n",
       "      <td>False</td>\n",
       "      <td>None</td>\n",
       "      <td>1</td>\n",
       "      <td>0.2</td>\n",
       "      <td>91</td>\n",
       "    </tr>\n",
       "    <tr>\n",
       "      <th>3</th>\n",
       "      <td>2016-05-12 01:34:01</td>\n",
       "      <td>Just sayin...#FeelTheBern https://t.co/cbfYwM8iGl</td>\n",
       "      <td>1</td>\n",
       "      <td>False</td>\n",
       "      <td>en</td>\n",
       "      <td>None</td>\n",
       "      <td>1</td>\n",
       "      <td>False</td>\n",
       "      <td>None</td>\n",
       "      <td>1</td>\n",
       "      <td>0.0</td>\n",
       "      <td>49</td>\n",
       "    </tr>\n",
       "    <tr>\n",
       "      <th>4</th>\n",
       "      <td>2016-05-12 01:32:26</td>\n",
       "      <td>Our odds are STILL better with Bernie\\n#FeelTh...</td>\n",
       "      <td>0</td>\n",
       "      <td>False</td>\n",
       "      <td>en</td>\n",
       "      <td>None</td>\n",
       "      <td>0</td>\n",
       "      <td>False</td>\n",
       "      <td>None</td>\n",
       "      <td>1</td>\n",
       "      <td>0.5</td>\n",
       "      <td>109</td>\n",
       "    </tr>\n",
       "  </tbody>\n",
       "</table>\n",
       "</div>"
      ],
      "text/plain": [
       "                 date                                               text  \\\n",
       "0 2016-05-12 01:43:01  RT @BobSmith4152: Just sayin...#FeelTheBern ht...   \n",
       "1 2016-05-12 01:41:25  RT @BayArea4Bernie: Goodnight y'all.\\n#FeelThe...   \n",
       "2 2016-05-12 01:35:06  So who's @CorrectRecord really working for?\\n#...   \n",
       "3 2016-05-12 01:34:01  Just sayin...#FeelTheBern https://t.co/cbfYwM8iGl   \n",
       "4 2016-05-12 01:32:26  Our odds are STILL better with Bernie\\n#FeelTh...   \n",
       "\n",
       "   favorite_count favorited language geocode  retweet count retweeted  \\\n",
       "0               0     False       en    None              1     False   \n",
       "1               0     False       en    None            126     False   \n",
       "2               0     False       en    None              0     False   \n",
       "3               1     False       en    None              1     False   \n",
       "4               0     False       en    None              0     False   \n",
       "\n",
       "  coordinates  democrat  sentiment  length  \n",
       "0        None         1        0.0      67  \n",
       "1        None         1        0.0     107  \n",
       "2        None         1        0.2      91  \n",
       "3        None         1        0.0      49  \n",
       "4        None         1        0.5     109  "
      ]
     },
     "execution_count": 36,
     "metadata": {},
     "output_type": "execute_result"
    }
   ],
   "source": [
    "# 5 create a word count column, which holds the number of words in the text column\n",
    "all_tweets['length'] = all_tweets.text.apply(len)\n",
    "all_tweets.head(5)"
   ]
  },
  {
   "cell_type": "code",
   "execution_count": 37,
   "metadata": {
    "collapsed": true
   },
   "outputs": [],
   "source": [
    "# use countvectorizer to create a document-term matrix and concatinate it to your main dataframe\n",
    "#(hint you should now have thousands of columns)\n",
    "from sklearn.feature_extraction.text import CountVectorizer, TfidfVectorizer\n",
    "cv = CountVectorizer(stop_words='english')"
   ]
  },
  {
   "cell_type": "code",
   "execution_count": 38,
   "metadata": {
    "collapsed": false
   },
   "outputs": [],
   "source": [
    "all_tweets_dtm = cv.fit_transform(all_tweets.text)"
   ]
  },
  {
   "cell_type": "code",
   "execution_count": 62,
   "metadata": {
    "collapsed": false
   },
   "outputs": [
    {
     "data": {
      "text/plain": [
       "(400, 1157)"
      ]
     },
     "execution_count": 62,
     "metadata": {},
     "output_type": "execute_result"
    }
   ],
   "source": [
    "all_tweets_dtm.shape"
   ]
  },
  {
   "cell_type": "code",
   "execution_count": 64,
   "metadata": {
    "collapsed": false
   },
   "outputs": [],
   "source": [
    "# 6 Use kmean to create clusters for the dataframe"
   ]
  },
  {
   "cell_type": "code",
   "execution_count": 74,
   "metadata": {
    "collapsed": false
   },
   "outputs": [
    {
     "data": {
      "text/plain": [
       "KMeans(copy_x=True, init='k-means++', max_iter=300, n_clusters=3, n_init=10,\n",
       "    n_jobs=1, precompute_distances='auto', random_state=None, tol=0.0001,\n",
       "    verbose=0)"
      ]
     },
     "execution_count": 74,
     "metadata": {},
     "output_type": "execute_result"
    }
   ],
   "source": [
    "from sklearn.cluster import KMeans\n",
    "km = KMeans(n_clusters=3)\n",
    "km.fit(all_tweets_dtm)"
   ]
  },
  {
   "cell_type": "code",
   "execution_count": null,
   "metadata": {
    "collapsed": true
   },
   "outputs": [],
   "source": [
    "# 7 Explore the clusters\n",
    "# What is interesting? Surprising? Can you draw any inferences about each cluster?\n",
    "# Write your answer to these questions in markdown"
   ]
  },
  {
   "cell_type": "code",
   "execution_count": 75,
   "metadata": {
    "collapsed": false
   },
   "outputs": [
    {
     "data": {
      "text/plain": [
       "array([2, 2, 2, 2, 2, 2, 2, 2, 2, 2, 2, 2, 2, 2, 2, 2, 2, 2, 2, 2, 2, 2, 2,\n",
       "       2, 2, 2, 2, 2, 2, 2, 2, 2, 2, 2, 2, 2, 2, 2, 2, 2, 2, 2, 2, 2, 2, 2,\n",
       "       2, 2, 2, 2, 2, 2, 2, 2, 2, 2, 2, 2, 2, 2, 2, 2, 2, 2, 2, 2, 2, 2, 2,\n",
       "       2, 2, 2, 2, 2, 2, 2, 2, 2, 2, 2, 2, 2, 2, 2, 2, 2, 2, 2, 2, 2, 2, 2,\n",
       "       2, 2, 2, 2, 2, 2, 2, 2, 0, 2, 2, 0, 2, 0, 0, 2, 2, 0, 2, 0, 2, 2, 2,\n",
       "       2, 2, 0, 0, 0, 0, 0, 2, 2, 0, 0, 2, 2, 2, 2, 2, 2, 2, 2, 2, 2, 2, 2,\n",
       "       2, 2, 2, 2, 2, 2, 2, 2, 2, 2, 2, 2, 2, 2, 2, 2, 2, 2, 2, 2, 2, 2, 2,\n",
       "       2, 2, 2, 2, 2, 2, 2, 2, 2, 2, 2, 2, 2, 2, 2, 2, 2, 2, 2, 2, 2, 2, 2,\n",
       "       2, 2, 2, 2, 2, 2, 2, 2, 2, 2, 2, 2, 2, 2, 2, 2, 2, 2, 2, 2, 2, 2, 2,\n",
       "       2, 2, 2, 2, 2, 2, 2, 2, 2, 2, 2, 2, 2, 2, 2, 2, 2, 2, 2, 2, 2, 2, 2,\n",
       "       2, 2, 2, 2, 2, 2, 2, 2, 2, 2, 2, 2, 2, 2, 2, 2, 2, 2, 2, 2, 2, 2, 2,\n",
       "       2, 2, 2, 2, 2, 2, 2, 2, 2, 2, 2, 1, 1, 2, 1, 1, 2, 1, 2, 2, 2, 1, 2,\n",
       "       2, 2, 2, 2, 2, 1, 1, 1, 1, 1, 2, 2, 1, 1, 1, 2, 2, 2, 2, 2, 2, 2, 2,\n",
       "       2, 2, 2, 2, 2, 2, 2, 2, 2, 2, 2, 2, 2, 2, 2, 2, 2, 2, 2, 2, 2, 2, 2,\n",
       "       2, 2, 2, 2, 2, 2, 2, 2, 2, 2, 2, 2, 2, 2, 2, 2, 2, 2, 2, 2, 2, 2, 2,\n",
       "       2, 2, 2, 2, 2, 2, 2, 2, 2, 2, 2, 2, 2, 2, 2, 2, 2, 2, 2, 2, 2, 2, 2,\n",
       "       2, 2, 2, 2, 2, 2, 2, 2, 2, 2, 2, 2, 2, 2, 2, 2, 2, 2, 2, 2, 2, 2, 2,\n",
       "       2, 2, 2, 2, 2, 2, 2, 2, 2], dtype=int32)"
      ]
     },
     "execution_count": 75,
     "metadata": {},
     "output_type": "execute_result"
    }
   ],
   "source": [
    "km.labels_"
   ]
  },
  {
   "cell_type": "code",
   "execution_count": 76,
   "metadata": {
    "collapsed": false
   },
   "outputs": [
    {
     "ename": "ValueError",
     "evalue": "shape mismatch: objects cannot be broadcast to a single shape",
     "output_type": "error",
     "traceback": [
      "\u001b[0;31m---------------------------------------------------------------------------\u001b[0m",
      "\u001b[0;31mValueError\u001b[0m                                Traceback (most recent call last)",
      "\u001b[0;32m<ipython-input-76-e2504202fc8e>\u001b[0m in \u001b[0;36m<module>\u001b[0;34m()\u001b[0m\n\u001b[0;32m----> 1\u001b[0;31m \u001b[0mall_tweets_dtm\u001b[0m\u001b[0;34m[\u001b[0m\u001b[0;34m'cluster'\u001b[0m\u001b[0;34m]\u001b[0m \u001b[0;34m=\u001b[0m \u001b[0mkm\u001b[0m\u001b[0;34m.\u001b[0m\u001b[0mlabels_\u001b[0m\u001b[0;34m\u001b[0m\u001b[0m\n\u001b[0m\u001b[1;32m      2\u001b[0m \u001b[0mall_tweets_dtm\u001b[0m\u001b[0;34m.\u001b[0m\u001b[0msort\u001b[0m\u001b[0;34m(\u001b[0m\u001b[0;34m'cluster'\u001b[0m\u001b[0;34m)\u001b[0m\u001b[0;34m\u001b[0m\u001b[0m\n",
      "\u001b[0;32m/Users/anastasia.petrie/anaconda/lib/python2.7/site-packages/scipy/sparse/compressed.pyc\u001b[0m in \u001b[0;36m__setitem__\u001b[0;34m(self, index, x)\u001b[0m\n\u001b[1;32m    646\u001b[0m         \u001b[0;31m# Make x and i into the same shape\u001b[0m\u001b[0;34m\u001b[0m\u001b[0;34m\u001b[0m\u001b[0m\n\u001b[1;32m    647\u001b[0m         \u001b[0mx\u001b[0m \u001b[0;34m=\u001b[0m \u001b[0mnp\u001b[0m\u001b[0;34m.\u001b[0m\u001b[0masarray\u001b[0m\u001b[0;34m(\u001b[0m\u001b[0mx\u001b[0m\u001b[0;34m,\u001b[0m \u001b[0mdtype\u001b[0m\u001b[0;34m=\u001b[0m\u001b[0mself\u001b[0m\u001b[0;34m.\u001b[0m\u001b[0mdtype\u001b[0m\u001b[0;34m)\u001b[0m\u001b[0;34m\u001b[0m\u001b[0m\n\u001b[0;32m--> 648\u001b[0;31m         \u001b[0mx\u001b[0m\u001b[0;34m,\u001b[0m \u001b[0m_\u001b[0m \u001b[0;34m=\u001b[0m \u001b[0mnp\u001b[0m\u001b[0;34m.\u001b[0m\u001b[0mbroadcast_arrays\u001b[0m\u001b[0;34m(\u001b[0m\u001b[0mx\u001b[0m\u001b[0;34m,\u001b[0m \u001b[0mi\u001b[0m\u001b[0;34m)\u001b[0m\u001b[0;34m\u001b[0m\u001b[0m\n\u001b[0m\u001b[1;32m    649\u001b[0m \u001b[0;34m\u001b[0m\u001b[0m\n\u001b[1;32m    650\u001b[0m         \u001b[0;32mif\u001b[0m \u001b[0mx\u001b[0m\u001b[0;34m.\u001b[0m\u001b[0mshape\u001b[0m \u001b[0;34m!=\u001b[0m \u001b[0mi\u001b[0m\u001b[0;34m.\u001b[0m\u001b[0mshape\u001b[0m\u001b[0;34m:\u001b[0m\u001b[0;34m\u001b[0m\u001b[0m\n",
      "\u001b[0;32m/Users/anastasia.petrie/anaconda/lib/python2.7/site-packages/numpy/lib/stride_tricks.pyc\u001b[0m in \u001b[0;36mbroadcast_arrays\u001b[0;34m(*args, **kwargs)\u001b[0m\n\u001b[1;32m    189\u001b[0m     \u001b[0margs\u001b[0m \u001b[0;34m=\u001b[0m \u001b[0;34m[\u001b[0m\u001b[0mnp\u001b[0m\u001b[0;34m.\u001b[0m\u001b[0marray\u001b[0m\u001b[0;34m(\u001b[0m\u001b[0m_m\u001b[0m\u001b[0;34m,\u001b[0m \u001b[0mcopy\u001b[0m\u001b[0;34m=\u001b[0m\u001b[0mFalse\u001b[0m\u001b[0;34m,\u001b[0m \u001b[0msubok\u001b[0m\u001b[0;34m=\u001b[0m\u001b[0msubok\u001b[0m\u001b[0;34m)\u001b[0m \u001b[0;32mfor\u001b[0m \u001b[0m_m\u001b[0m \u001b[0;32min\u001b[0m \u001b[0margs\u001b[0m\u001b[0;34m]\u001b[0m\u001b[0;34m\u001b[0m\u001b[0m\n\u001b[1;32m    190\u001b[0m \u001b[0;34m\u001b[0m\u001b[0m\n\u001b[0;32m--> 191\u001b[0;31m     \u001b[0mshape\u001b[0m \u001b[0;34m=\u001b[0m \u001b[0m_broadcast_shape\u001b[0m\u001b[0;34m(\u001b[0m\u001b[0;34m*\u001b[0m\u001b[0margs\u001b[0m\u001b[0;34m)\u001b[0m\u001b[0;34m\u001b[0m\u001b[0m\n\u001b[0m\u001b[1;32m    192\u001b[0m \u001b[0;34m\u001b[0m\u001b[0m\n\u001b[1;32m    193\u001b[0m     \u001b[0;32mif\u001b[0m \u001b[0mall\u001b[0m\u001b[0;34m(\u001b[0m\u001b[0marray\u001b[0m\u001b[0;34m.\u001b[0m\u001b[0mshape\u001b[0m \u001b[0;34m==\u001b[0m \u001b[0mshape\u001b[0m \u001b[0;32mfor\u001b[0m \u001b[0marray\u001b[0m \u001b[0;32min\u001b[0m \u001b[0margs\u001b[0m\u001b[0;34m)\u001b[0m\u001b[0;34m:\u001b[0m\u001b[0;34m\u001b[0m\u001b[0m\n",
      "\u001b[0;32m/Users/anastasia.petrie/anaconda/lib/python2.7/site-packages/numpy/lib/stride_tricks.pyc\u001b[0m in \u001b[0;36m_broadcast_shape\u001b[0;34m(*args)\u001b[0m\n\u001b[1;32m    124\u001b[0m     \u001b[0;31m# use the old-iterator because np.nditer does not handle size 0 arrays\u001b[0m\u001b[0;34m\u001b[0m\u001b[0;34m\u001b[0m\u001b[0m\n\u001b[1;32m    125\u001b[0m     \u001b[0;31m# consistently\u001b[0m\u001b[0;34m\u001b[0m\u001b[0;34m\u001b[0m\u001b[0m\n\u001b[0;32m--> 126\u001b[0;31m     \u001b[0mb\u001b[0m \u001b[0;34m=\u001b[0m \u001b[0mnp\u001b[0m\u001b[0;34m.\u001b[0m\u001b[0mbroadcast\u001b[0m\u001b[0;34m(\u001b[0m\u001b[0;34m*\u001b[0m\u001b[0margs\u001b[0m\u001b[0;34m[\u001b[0m\u001b[0;34m:\u001b[0m\u001b[0;36m32\u001b[0m\u001b[0;34m]\u001b[0m\u001b[0;34m)\u001b[0m\u001b[0;34m\u001b[0m\u001b[0m\n\u001b[0m\u001b[1;32m    127\u001b[0m     \u001b[0;31m# unfortunately, it cannot handle 32 or more arguments directly\u001b[0m\u001b[0;34m\u001b[0m\u001b[0;34m\u001b[0m\u001b[0m\n\u001b[1;32m    128\u001b[0m     \u001b[0;32mfor\u001b[0m \u001b[0mpos\u001b[0m \u001b[0;32min\u001b[0m \u001b[0mrange\u001b[0m\u001b[0;34m(\u001b[0m\u001b[0;36m32\u001b[0m\u001b[0;34m,\u001b[0m \u001b[0mlen\u001b[0m\u001b[0;34m(\u001b[0m\u001b[0margs\u001b[0m\u001b[0;34m)\u001b[0m\u001b[0;34m,\u001b[0m \u001b[0;36m31\u001b[0m\u001b[0;34m)\u001b[0m\u001b[0;34m:\u001b[0m\u001b[0;34m\u001b[0m\u001b[0m\n",
      "\u001b[0;31mValueError\u001b[0m: shape mismatch: objects cannot be broadcast to a single shape"
     ]
    }
   ],
   "source": [
    "all_tweets_dtm['cluster'] = km.labels_\n",
    "all_tweets_dtm.sort('cluster')"
   ]
  },
  {
   "cell_type": "code",
   "execution_count": null,
   "metadata": {
    "collapsed": true
   },
   "outputs": [],
   "source": [
    "# 8 Create a column called 'democrat' and assign it to the corresponding candidate name for all the records\n",
    "# 1 for bernie and hilary and 0 for donald trump\n",
    "#done in #2"
   ]
  },
  {
   "cell_type": "code",
   "execution_count": null,
   "metadata": {
    "collapsed": true
   },
   "outputs": [],
   "source": [
    "# 9 Estimate classification models using knn and logistic regession.  Dont forget to use cross validation \n",
    "    # (do not use cross_val_score because we will want a confusion matrix).\n",
    "# Use a three class response variable for knn.  For logistic regression predict democrat or republic?\n",
    "#Assess the pros and cons of both approaches\n",
    "#Extra Credit: Estimate multinomial regression model using the three class response variable"
   ]
  },
  {
   "cell_type": "code",
   "execution_count": null,
   "metadata": {
    "collapsed": true
   },
   "outputs": [],
   "source": [
    "# 10 Initialize a classification model (for both knn and logistic)"
   ]
  },
  {
   "cell_type": "code",
   "execution_count": null,
   "metadata": {
    "collapsed": true
   },
   "outputs": [],
   "source": [
    "# 11 Train your classification model  (for both knn and logistic)"
   ]
  },
  {
   "cell_type": "code",
   "execution_count": null,
   "metadata": {
    "collapsed": true
   },
   "outputs": [],
   "source": [
    "# 12 Predict on your test features and targets (for both knn and logistic)"
   ]
  },
  {
   "cell_type": "code",
   "execution_count": null,
   "metadata": {
    "collapsed": true
   },
   "outputs": [],
   "source": [
    "# 13 output your accuracy (for both knn and logistic)"
   ]
  },
  {
   "cell_type": "code",
   "execution_count": null,
   "metadata": {
    "collapsed": true
   },
   "outputs": [],
   "source": [
    "# 14 Create a confusion matrix for your predictions (for both knn and logistic)"
   ]
  },
  {
   "cell_type": "code",
   "execution_count": null,
   "metadata": {
    "collapsed": true
   },
   "outputs": [],
   "source": [
    "# 15 Who is the easiest candidate to predict? Why do you think? Who is the hardest? Why do you think?\n",
    "# Write your answers in markdown (for both knn and logistic)"
   ]
  },
  {
   "cell_type": "code",
   "execution_count": null,
   "metadata": {
    "collapsed": true
   },
   "outputs": [],
   "source": [
    "# 16 What are some extra features (data points) you would like to add to this data set. Explain in markdown.\n",
    "# (hint maybe something like a boolean, \"has_hashtag\")"
   ]
  },
  {
   "cell_type": "code",
   "execution_count": null,
   "metadata": {
    "collapsed": true
   },
   "outputs": [],
   "source": [
    "# 17 Try adding extra features to improve the quality of your predictions (for both knn and logistic)"
   ]
  }
 ],
 "metadata": {
  "kernelspec": {
   "display_name": "Python 2",
   "language": "python",
   "name": "python2"
  },
  "language_info": {
   "codemirror_mode": {
    "name": "ipython",
    "version": 2
   },
   "file_extension": ".py",
   "mimetype": "text/x-python",
   "name": "python",
   "nbconvert_exporter": "python",
   "pygments_lexer": "ipython2",
   "version": "2.7.11"
  }
 },
 "nbformat": 4,
 "nbformat_minor": 0
}
